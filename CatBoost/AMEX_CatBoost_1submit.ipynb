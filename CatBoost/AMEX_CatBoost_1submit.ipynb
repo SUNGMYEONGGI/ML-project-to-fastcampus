{
  "cells": [
    {
      "cell_type": "markdown",
      "metadata": {
        "id": "uYCaziYeePUp"
      },
      "source": [
        "# Data Load"
      ]
    },
    {
      "cell_type": "code",
      "execution_count": 1,
      "metadata": {
        "colab": {
          "base_uri": "https://localhost:8080/"
        },
        "id": "lIZx1fKKSREN",
        "outputId": "c205fb8a-62a7-43ed-df93-33c1f0637eff"
      },
      "outputs": [
        {
          "output_type": "stream",
          "name": "stdout",
          "text": [
            "Mounted at /content/drive\n"
          ]
        }
      ],
      "source": [
        "from google.colab import drive\n",
        "drive.mount('/content/drive')"
      ]
    },
    {
      "cell_type": "code",
      "execution_count": 2,
      "metadata": {
        "id": "MjbranR5yfOp"
      },
      "outputs": [],
      "source": [
        "import pandas as pd\n",
        "import numpy as np\n",
        "import matplotlib.pyplot as plt\n",
        "import seaborn as sns\n",
        "import warnings\n",
        "warnings.filterwarnings('ignore')\n",
        "\n",
        "train_df = pd.read_feather(\"/content/drive/MyDrive/data_ftr/train_data.ftr\")\n",
        "# test_df = pd.read_feather(\"/content/drive/MyDrive/data_ftr/test_data.ftr\")"
      ]
    },
    {
      "cell_type": "markdown",
      "metadata": {
        "id": "O98-X-RqrNqk"
      },
      "source": [
        "# Data Check"
      ]
    },
    {
      "cell_type": "code",
      "execution_count": 3,
      "metadata": {
        "id": "lZpfoAGA9v44"
      },
      "outputs": [],
      "source": [
        "# train_df.shape"
      ]
    },
    {
      "cell_type": "code",
      "execution_count": 4,
      "metadata": {
        "colab": {
          "base_uri": "https://localhost:8080/"
        },
        "id": "po2H4Hhx2MH9",
        "outputId": "091fab54-b5b4-47b6-ecce-4db206787e71"
      },
      "outputs": [
        {
          "output_type": "stream",
          "name": "stdout",
          "text": [
            "<class 'pandas.core.frame.DataFrame'>\n",
            "RangeIndex: 5531451 entries, 0 to 5531450\n",
            "Columns: 191 entries, customer_ID to target\n",
            "dtypes: category(11), datetime64[ns](1), float16(177), int64(1), object(1)\n",
            "memory usage: 2.0+ GB\n"
          ]
        }
      ],
      "source": [
        "train_df.info()"
      ]
    },
    {
      "cell_type": "code",
      "execution_count": 5,
      "metadata": {
        "id": "cgCA-htQOeD9"
      },
      "outputs": [],
      "source": [
        "train_df = train_df.groupby('customer_ID')\n",
        "train_df = train_df.tail(1)"
      ]
    },
    {
      "cell_type": "code",
      "execution_count": 6,
      "metadata": {
        "colab": {
          "base_uri": "https://localhost:8080/"
        },
        "id": "czqcp-xcOqjJ",
        "outputId": "409cef11-31c5-4d55-ca0f-b4fc69fdfd1f"
      },
      "outputs": [
        {
          "output_type": "execute_result",
          "data": {
            "text/plain": [
              "(458913, 191)"
            ]
          },
          "metadata": {},
          "execution_count": 6
        }
      ],
      "source": [
        "train_df.shape"
      ]
    },
    {
      "cell_type": "markdown",
      "metadata": {
        "id": "MqWQT1R5rNql"
      },
      "source": [
        "## Removing Non-Meaningful Data\n",
        "- customer_id : 고객 식별 번호\n",
        "- S_2 : 날짜\n",
        "\n",
        "> customer_id와 S_2는 신용 데이터를 분석하는 데 있어서 유의미 하지 않은 데이터이므로 제거합니다."
      ]
    },
    {
      "cell_type": "code",
      "execution_count": 7,
      "metadata": {
        "id": "mf86Rjr28Ps8"
      },
      "outputs": [],
      "source": [
        "# Customer_ID, S_2 컬럼 제거 (유의미 하지 않음)\n",
        "train_df = train_df.drop(['customer_ID', 'S_2'], axis=1)"
      ]
    },
    {
      "cell_type": "markdown",
      "metadata": {
        "id": "TxtjNNEGwBeE"
      },
      "source": [
        "# Missing Value"
      ]
    },
    {
      "cell_type": "code",
      "execution_count": 8,
      "metadata": {
        "colab": {
          "base_uri": "https://localhost:8080/"
        },
        "id": "fwK175a28V2u",
        "outputId": "3eb4bfca-db8d-4ddc-93ba-1882ed6f212b"
      },
      "outputs": [
        {
          "output_type": "execute_result",
          "data": {
            "text/plain": [
              "P_2         2969\n",
              "D_39           0\n",
              "B_1            0\n",
              "B_2           31\n",
              "R_1            0\n",
              "           ...  \n",
              "D_142     378598\n",
              "D_143       2830\n",
              "D_144          0\n",
              "D_145       2830\n",
              "target         0\n",
              "Length: 189, dtype: int64"
            ]
          },
          "metadata": {},
          "execution_count": 8
        }
      ],
      "source": [
        "# 각 컬럼별 결측치 확인\n",
        "train_df.isnull().sum()"
      ]
    },
    {
      "cell_type": "markdown",
      "metadata": {
        "id": "NglPb2v1rNql"
      },
      "source": [
        "# Libarary Import"
      ]
    },
    {
      "cell_type": "code",
      "execution_count": 9,
      "metadata": {
        "id": "PGSkIZuvSw9E"
      },
      "outputs": [],
      "source": [
        "import pandas as pd\n",
        "from sklearn.preprocessing import LabelEncoder\n",
        "from sklearn.model_selection import train_test_split\n",
        "from xgboost import XGBRegressor\n",
        "from xgboost import XGBClassifier\n",
        "from sklearn.metrics import mean_squared_error, mean_absolute_error, r2_score\n",
        "import matplotlib.pyplot as plt\n",
        "from sklearn.preprocessing import OneHotEncoder\n",
        "from sklearn.utils import resample"
      ]
    },
    {
      "cell_type": "markdown",
      "metadata": {
        "id": "q5y67P6yrNqm"
      },
      "source": [
        "# Dataset Description"
      ]
    },
    {
      "cell_type": "code",
      "execution_count": 10,
      "metadata": {
        "id": "9oW1Fdvz7Bd9"
      },
      "outputs": [],
      "source": [
        "total_cols = train_df.columns.to_list()\n",
        "\n",
        "# 수치형과 범주형 컬럼 구분\n",
        "cat_columns = ['B_30', 'B_38', 'D_114', 'D_116', 'D_117', 'D_120', 'D_126', 'D_63', 'D_64', 'D_66', 'D_68']\n",
        "# 전체 데이터 - cat_columns\n",
        "num_columns = [col for col in total_cols if col not in cat_columns]"
      ]
    },
    {
      "cell_type": "code",
      "execution_count": 11,
      "metadata": {
        "colab": {
          "base_uri": "https://localhost:8080/"
        },
        "id": "bPZOVss89olc",
        "outputId": "7835f176-9b0a-4799-fb68-2ed9706c6f0b"
      },
      "outputs": [
        {
          "output_type": "stream",
          "name": "stdout",
          "text": [
            "수치형 컬럼: ['P_2', 'D_39', 'B_1', 'B_2', 'R_1', 'S_3', 'D_41', 'B_3', 'D_42', 'D_43', 'D_44', 'B_4', 'D_45', 'B_5', 'R_2', 'D_46', 'D_47', 'D_48', 'D_49', 'B_6', 'B_7', 'B_8', 'D_50', 'D_51', 'B_9', 'R_3', 'D_52', 'P_3', 'B_10', 'D_53', 'S_5', 'B_11', 'S_6', 'D_54', 'R_4', 'S_7', 'B_12', 'S_8', 'D_55', 'D_56', 'B_13', 'R_5', 'D_58', 'S_9', 'B_14', 'D_59', 'D_60', 'D_61', 'B_15', 'S_11', 'D_62', 'D_65', 'B_16', 'B_17', 'B_18', 'B_19', 'B_20', 'S_12', 'R_6', 'S_13', 'B_21', 'D_69', 'B_22', 'D_70', 'D_71', 'D_72', 'S_15', 'B_23', 'D_73', 'P_4', 'D_74', 'D_75', 'D_76', 'B_24', 'R_7', 'D_77', 'B_25', 'B_26', 'D_78', 'D_79', 'R_8', 'R_9', 'S_16', 'D_80', 'R_10', 'R_11', 'B_27', 'D_81', 'D_82', 'S_17', 'R_12', 'B_28', 'R_13', 'D_83', 'R_14', 'R_15', 'D_84', 'R_16', 'B_29', 'S_18', 'D_86', 'D_87', 'R_17', 'R_18', 'D_88', 'B_31', 'S_19', 'R_19', 'B_32', 'S_20', 'R_20', 'R_21', 'B_33', 'D_89', 'R_22', 'R_23', 'D_91', 'D_92', 'D_93', 'D_94', 'R_24', 'R_25', 'D_96', 'S_22', 'S_23', 'S_24', 'S_25', 'S_26', 'D_102', 'D_103', 'D_104', 'D_105', 'D_106', 'D_107', 'B_36', 'B_37', 'R_26', 'R_27', 'D_108', 'D_109', 'D_110', 'D_111', 'B_39', 'D_112', 'B_40', 'S_27', 'D_113', 'D_115', 'D_118', 'D_119', 'D_121', 'D_122', 'D_123', 'D_124', 'D_125', 'D_127', 'D_128', 'D_129', 'B_41', 'B_42', 'D_130', 'D_131', 'D_132', 'D_133', 'R_28', 'D_134', 'D_135', 'D_136', 'D_137', 'D_138', 'D_139', 'D_140', 'D_141', 'D_142', 'D_143', 'D_144', 'D_145', 'target']\n",
            "범주형 컬럼: ['B_30', 'B_38', 'D_114', 'D_116', 'D_117', 'D_120', 'D_126', 'D_63', 'D_64', 'D_66', 'D_68']\n"
          ]
        }
      ],
      "source": [
        "print(f'수치형 컬럼: {num_columns}')\n",
        "print(f'범주형 컬럼: {cat_columns}')"
      ]
    },
    {
      "cell_type": "code",
      "execution_count": 12,
      "metadata": {
        "id": "5Yv_XWjBEOU8"
      },
      "outputs": [],
      "source": [
        "num_columns_copy = num_columns.copy() # 수치형 데이터 복제\n",
        "cat_columns_copy = cat_columns.copy() # 범주형 데이터 복제"
      ]
    },
    {
      "cell_type": "markdown",
      "metadata": {
        "id": "WppDAuPjSaor"
      },
      "source": [
        "# Handling missing values\n",
        "> Replace categorical data with LabelEncoding\n",
        "\n",
        "> Replace missing values with the median of the column"
      ]
    },
    {
      "cell_type": "code",
      "execution_count": 13,
      "metadata": {
        "colab": {
          "base_uri": "https://localhost:8080/"
        },
        "id": "xqS2_MQo4BmT",
        "outputId": "f90e3285-4f82-4a96-bdeb-528ab7df9f7a"
      },
      "outputs": [
        {
          "output_type": "stream",
          "name": "stdout",
          "text": [
            "B_30 LabelEncoding 완료\n",
            "B_38 LabelEncoding 완료\n",
            "D_114 LabelEncoding 완료\n",
            "D_116 LabelEncoding 완료\n",
            "D_117 LabelEncoding 완료\n",
            "D_120 LabelEncoding 완료\n",
            "D_126 LabelEncoding 완료\n",
            "D_63 LabelEncoding 완료\n",
            "D_64 LabelEncoding 완료\n",
            "D_66 LabelEncoding 완료\n",
            "D_68 LabelEncoding 완료\n"
          ]
        }
      ],
      "source": [
        "# 범주형 데이터는 전체 데이터를 LabelEncoding으로 대체\n",
        "for column in cat_columns_copy:\n",
        "    le = LabelEncoder()\n",
        "    train_df[column] = le.fit_transform(train_df[column])\n",
        "    print(f\"{column} LabelEncoding 완료\")"
      ]
    },
    {
      "cell_type": "code",
      "execution_count": 14,
      "metadata": {
        "colab": {
          "base_uri": "https://localhost:8080/"
        },
        "id": "iqXbVKOchQBy",
        "outputId": "dfef7174-1e05-40b1-d2b9-e83302f9a55d"
      },
      "outputs": [
        {
          "output_type": "stream",
          "name": "stdout",
          "text": [
            "P_2 결측치 중앙값 대체 완료\n",
            "D_39 결측치 없음\n",
            "B_1 결측치 없음\n",
            "B_2 결측치 중앙값 대체 완료\n",
            "R_1 결측치 없음\n",
            "S_3 결측치 중앙값 대체 완료\n",
            "D_41 결측치 중앙값 대체 완료\n",
            "B_3 결측치 중앙값 대체 완료\n",
            "D_42 결측치 중앙값 대체 완료\n",
            "D_43 결측치 중앙값 대체 완료\n",
            "D_44 결측치 중앙값 대체 완료\n",
            "B_4 결측치 없음\n",
            "D_45 결측치 중앙값 대체 완료\n",
            "B_5 결측치 없음\n",
            "R_2 결측치 없음\n",
            "D_46 결측치 중앙값 대체 완료\n",
            "D_47 결측치 없음\n",
            "D_48 결측치 중앙값 대체 완료\n",
            "D_49 결측치 중앙값 대체 완료\n",
            "B_6 결측치 중앙값 대체 완료\n",
            "B_7 결측치 없음\n",
            "B_8 결측치 중앙값 대체 완료\n",
            "D_50 결측치 중앙값 대체 완료\n",
            "D_51 결측치 없음\n",
            "B_9 결측치 없음\n",
            "R_3 결측치 없음\n",
            "D_52 결측치 중앙값 대체 완료\n",
            "P_3 결측치 중앙값 대체 완료\n",
            "B_10 결측치 없음\n",
            "D_53 결측치 중앙값 대체 완료\n",
            "S_5 결측치 없음\n",
            "B_11 결측치 없음\n",
            "S_6 결측치 없음\n",
            "D_54 결측치 중앙값 대체 완료\n",
            "R_4 결측치 없음\n",
            "S_7 결측치 중앙값 대체 완료\n",
            "B_12 결측치 없음\n",
            "S_8 결측치 없음\n",
            "D_55 결측치 중앙값 대체 완료\n",
            "D_56 결측치 중앙값 대체 완료\n",
            "B_13 결측치 중앙값 대체 완료\n",
            "R_5 결측치 없음\n",
            "D_58 결측치 없음\n",
            "S_9 결측치 중앙값 대체 완료\n",
            "B_14 결측치 없음\n",
            "D_59 결측치 중앙값 대체 완료\n",
            "D_60 결측치 없음\n",
            "D_61 결측치 중앙값 대체 완료\n",
            "B_15 결측치 중앙값 대체 완료\n",
            "S_11 결측치 없음\n",
            "D_62 결측치 중앙값 대체 완료\n",
            "D_65 결측치 없음\n",
            "B_16 결측치 중앙값 대체 완료\n",
            "B_17 결측치 중앙값 대체 완료\n",
            "B_18 결측치 없음\n",
            "B_19 결측치 중앙값 대체 완료\n",
            "B_20 결측치 중앙값 대체 완료\n",
            "S_12 결측치 없음\n",
            "R_6 결측치 없음\n",
            "S_13 결측치 없음\n",
            "B_21 결측치 없음\n",
            "D_69 결측치 중앙값 대체 완료\n",
            "B_22 결측치 중앙값 대체 완료\n",
            "D_70 결측치 중앙값 대체 완료\n",
            "D_71 결측치 없음\n",
            "D_72 결측치 중앙값 대체 완료\n",
            "S_15 결측치 없음\n",
            "B_23 결측치 없음\n",
            "D_73 결측치 중앙값 대체 완료\n",
            "P_4 결측치 없음\n",
            "D_74 결측치 중앙값 대체 완료\n",
            "D_75 결측치 없음\n",
            "D_76 결측치 중앙값 대체 완료\n",
            "B_24 결측치 없음\n",
            "R_7 결측치 없음\n",
            "D_77 결측치 중앙값 대체 완료\n",
            "B_25 결측치 중앙값 대체 완료\n",
            "B_26 결측치 중앙값 대체 완료\n",
            "D_78 결측치 중앙값 대체 완료\n",
            "D_79 결측치 중앙값 대체 완료\n",
            "R_8 결측치 없음\n",
            "R_9 결측치 중앙값 대체 완료\n",
            "S_16 결측치 없음\n",
            "D_80 결측치 중앙값 대체 완료\n",
            "R_10 결측치 없음\n",
            "R_11 결측치 없음\n",
            "B_27 결측치 중앙값 대체 완료\n",
            "D_81 결측치 중앙값 대체 완료\n",
            "D_82 결측치 중앙값 대체 완료\n",
            "S_17 결측치 없음\n",
            "R_12 결측치 없음\n",
            "B_28 결측치 없음\n",
            "R_13 결측치 없음\n",
            "D_83 결측치 중앙값 대체 완료\n",
            "R_14 결측치 없음\n",
            "R_15 결측치 없음\n",
            "D_84 결측치 중앙값 대체 완료\n",
            "R_16 결측치 없음\n",
            "B_29 결측치 중앙값 대체 완료\n",
            "S_18 결측치 없음\n",
            "D_86 결측치 없음\n",
            "D_87 결측치 중앙값 대체 완료\n",
            "R_17 결측치 없음\n",
            "R_18 결측치 없음\n",
            "D_88 결측치 중앙값 대체 완료\n",
            "B_31 결측치 없음\n",
            "S_19 결측치 없음\n",
            "R_19 결측치 없음\n",
            "B_32 결측치 없음\n",
            "S_20 결측치 없음\n",
            "R_20 결측치 없음\n",
            "R_21 결측치 없음\n",
            "B_33 결측치 중앙값 대체 완료\n",
            "D_89 결측치 중앙값 대체 완료\n",
            "R_22 결측치 없음\n",
            "R_23 결측치 없음\n",
            "D_91 결측치 중앙값 대체 완료\n",
            "D_92 결측치 없음\n",
            "D_93 결측치 없음\n",
            "D_94 결측치 없음\n",
            "R_24 결측치 없음\n",
            "R_25 결측치 없음\n",
            "D_96 결측치 없음\n",
            "S_22 결측치 중앙값 대체 완료\n",
            "S_23 결측치 중앙값 대체 완료\n",
            "S_24 결측치 중앙값 대체 완료\n",
            "S_25 결측치 중앙값 대체 완료\n",
            "S_26 결측치 없음\n",
            "D_102 결측치 없음\n",
            "D_103 결측치 중앙값 대체 완료\n",
            "D_104 결측치 중앙값 대체 완료\n",
            "D_105 결측치 중앙값 대체 완료\n",
            "D_106 결측치 중앙값 대체 완료\n",
            "D_107 결측치 중앙값 대체 완료\n",
            "B_36 결측치 없음\n",
            "B_37 결측치 없음\n",
            "R_26 결측치 중앙값 대체 완료\n",
            "R_27 결측치 중앙값 대체 완료\n",
            "D_108 결측치 중앙값 대체 완료\n",
            "D_109 결측치 중앙값 대체 완료\n",
            "D_110 결측치 중앙값 대체 완료\n",
            "D_111 결측치 중앙값 대체 완료\n",
            "B_39 결측치 중앙값 대체 완료\n",
            "D_112 결측치 중앙값 대체 완료\n",
            "B_40 결측치 없음\n",
            "S_27 결측치 중앙값 대체 완료\n",
            "D_113 결측치 중앙값 대체 완료\n",
            "D_115 결측치 중앙값 대체 완료\n",
            "D_118 결측치 중앙값 대체 완료\n",
            "D_119 결측치 중앙값 대체 완료\n",
            "D_121 결측치 중앙값 대체 완료\n",
            "D_122 결측치 중앙값 대체 완료\n",
            "D_123 결측치 중앙값 대체 완료\n",
            "D_124 결측치 중앙값 대체 완료\n",
            "D_125 결측치 중앙값 대체 완료\n",
            "D_127 결측치 없음\n",
            "D_128 결측치 중앙값 대체 완료\n",
            "D_129 결측치 중앙값 대체 완료\n",
            "B_41 결측치 없음\n",
            "B_42 결측치 중앙값 대체 완료\n",
            "D_130 결측치 중앙값 대체 완료\n",
            "D_131 결측치 중앙값 대체 완료\n",
            "D_132 결측치 중앙값 대체 완료\n",
            "D_133 결측치 없음\n",
            "R_28 결측치 없음\n",
            "D_134 결측치 중앙값 대체 완료\n",
            "D_135 결측치 중앙값 대체 완료\n",
            "D_136 결측치 중앙값 대체 완료\n",
            "D_137 결측치 중앙값 대체 완료\n",
            "D_138 결측치 중앙값 대체 완료\n",
            "D_139 결측치 중앙값 대체 완료\n",
            "D_140 결측치 없음\n",
            "D_141 결측치 중앙값 대체 완료\n",
            "D_142 결측치 중앙값 대체 완료\n",
            "D_143 결측치 중앙값 대체 완료\n",
            "D_144 결측치 없음\n",
            "D_145 결측치 중앙값 대체 완료\n",
            "target 결측치 없음\n"
          ]
        }
      ],
      "source": [
        "# 수치형 데이터 -> 중앙값\n",
        "for column in num_columns_copy:\n",
        "    if train_df[column].isnull().sum() > 0:\n",
        "        train_df[column].fillna(train_df[column].median(), inplace=True)\n",
        "        print(f\"{column} 결측치 중앙값 대체 완료\")\n",
        "    else:\n",
        "        print(f\"{column} 결측치 없음\")"
      ]
    },
    {
      "cell_type": "code",
      "execution_count": 15,
      "metadata": {
        "id": "m8IhY4CJDk90"
      },
      "outputs": [],
      "source": [
        "# 합체\n",
        "train_df = pd.concat([train_df[cat_columns_copy], train_df[num_columns_copy]], axis=1)"
      ]
    },
    {
      "cell_type": "code",
      "execution_count": 16,
      "metadata": {
        "colab": {
          "base_uri": "https://localhost:8080/",
          "height": 412
        },
        "id": "vNd_YtRnK9Uk",
        "outputId": "5546f7d4-2d19-41ef-deba-a8129075255b"
      },
      "outputs": [
        {
          "output_type": "execute_result",
          "data": {
            "text/plain": [
              "     B_30  B_38  D_114  D_116  D_117  D_120  D_126  D_63  D_64  D_66  ...  \\\n",
              "12      0     1      1      0      4      0      1     2     1     1  ...   \n",
              "25      0     1      1      0      0      0      1     1     1     1  ...   \n",
              "38      0     0      1      0      0      0      1     1     2     1  ...   \n",
              "51      0     1      1      0      6      0      1     1     1     1  ...   \n",
              "64      0     0      1      0      4      0      1     1     1     0  ...   \n",
              "77      0     1      1      0      1      0      1     1     2     1  ...   \n",
              "90      0     2      0      0      2      0      0     1     2     1  ...   \n",
              "103     0     2      1      0      6      0      1     1     2     1  ...   \n",
              "116     1     6      0      0      0      0      1     1     3     0  ...   \n",
              "129     0     0      0      0      4      0      1     1     1     1  ...   \n",
              "\n",
              "        D_137     D_138     D_139     D_140     D_141     D_142     D_143  \\\n",
              "12   0.005051  0.007027  0.007187  0.004234  0.005085  0.385986  0.005810   \n",
              "25   0.005051  0.007027  0.002981  0.007481  0.007874  0.385986  0.003284   \n",
              "38   0.005051  0.007027  0.007381  0.006622  0.000965  0.385986  0.002201   \n",
              "51   0.005051  0.007027  0.002705  0.006184  0.001899  0.385986  0.008186   \n",
              "64   0.005051  0.007027  0.002974  0.004162  0.005764  0.385986  0.008156   \n",
              "77   0.005051  0.007027  0.009399  0.007835  0.000957  0.385986  0.009056   \n",
              "90   0.005051  0.007027  0.006012  0.005222  0.000937  0.385986  0.009789   \n",
              "103  0.005051  0.007027  0.002262  0.005219  0.002153  0.385986  0.001169   \n",
              "116  0.005051  0.007027  1.000977  0.007061  0.875977  0.184570  1.004883   \n",
              "129  0.005051  0.007027  0.009811  0.002213  0.004070  0.385986  0.005428   \n",
              "\n",
              "        D_144     D_145  target  \n",
              "12   0.002970  0.008530       0  \n",
              "25   0.003170  0.008514       0  \n",
              "38   0.000834  0.003445       0  \n",
              "51   0.005558  0.002983       0  \n",
              "64   0.006943  0.000905       0  \n",
              "77   0.006943  0.001446       0  \n",
              "90   0.003704  0.006275       0  \n",
              "103  0.003349  0.000675       0  \n",
              "116  0.003349  0.734375       1  \n",
              "129  0.007107  0.006271       1  \n",
              "\n",
              "[10 rows x 189 columns]"
            ],
            "text/html": [
              "\n",
              "  <div id=\"df-c55d6bec-37a6-445a-870c-6876cf16db52\" class=\"colab-df-container\">\n",
              "    <div>\n",
              "<style scoped>\n",
              "    .dataframe tbody tr th:only-of-type {\n",
              "        vertical-align: middle;\n",
              "    }\n",
              "\n",
              "    .dataframe tbody tr th {\n",
              "        vertical-align: top;\n",
              "    }\n",
              "\n",
              "    .dataframe thead th {\n",
              "        text-align: right;\n",
              "    }\n",
              "</style>\n",
              "<table border=\"1\" class=\"dataframe\">\n",
              "  <thead>\n",
              "    <tr style=\"text-align: right;\">\n",
              "      <th></th>\n",
              "      <th>B_30</th>\n",
              "      <th>B_38</th>\n",
              "      <th>D_114</th>\n",
              "      <th>D_116</th>\n",
              "      <th>D_117</th>\n",
              "      <th>D_120</th>\n",
              "      <th>D_126</th>\n",
              "      <th>D_63</th>\n",
              "      <th>D_64</th>\n",
              "      <th>D_66</th>\n",
              "      <th>...</th>\n",
              "      <th>D_137</th>\n",
              "      <th>D_138</th>\n",
              "      <th>D_139</th>\n",
              "      <th>D_140</th>\n",
              "      <th>D_141</th>\n",
              "      <th>D_142</th>\n",
              "      <th>D_143</th>\n",
              "      <th>D_144</th>\n",
              "      <th>D_145</th>\n",
              "      <th>target</th>\n",
              "    </tr>\n",
              "  </thead>\n",
              "  <tbody>\n",
              "    <tr>\n",
              "      <th>12</th>\n",
              "      <td>0</td>\n",
              "      <td>1</td>\n",
              "      <td>1</td>\n",
              "      <td>0</td>\n",
              "      <td>4</td>\n",
              "      <td>0</td>\n",
              "      <td>1</td>\n",
              "      <td>2</td>\n",
              "      <td>1</td>\n",
              "      <td>1</td>\n",
              "      <td>...</td>\n",
              "      <td>0.005051</td>\n",
              "      <td>0.007027</td>\n",
              "      <td>0.007187</td>\n",
              "      <td>0.004234</td>\n",
              "      <td>0.005085</td>\n",
              "      <td>0.385986</td>\n",
              "      <td>0.005810</td>\n",
              "      <td>0.002970</td>\n",
              "      <td>0.008530</td>\n",
              "      <td>0</td>\n",
              "    </tr>\n",
              "    <tr>\n",
              "      <th>25</th>\n",
              "      <td>0</td>\n",
              "      <td>1</td>\n",
              "      <td>1</td>\n",
              "      <td>0</td>\n",
              "      <td>0</td>\n",
              "      <td>0</td>\n",
              "      <td>1</td>\n",
              "      <td>1</td>\n",
              "      <td>1</td>\n",
              "      <td>1</td>\n",
              "      <td>...</td>\n",
              "      <td>0.005051</td>\n",
              "      <td>0.007027</td>\n",
              "      <td>0.002981</td>\n",
              "      <td>0.007481</td>\n",
              "      <td>0.007874</td>\n",
              "      <td>0.385986</td>\n",
              "      <td>0.003284</td>\n",
              "      <td>0.003170</td>\n",
              "      <td>0.008514</td>\n",
              "      <td>0</td>\n",
              "    </tr>\n",
              "    <tr>\n",
              "      <th>38</th>\n",
              "      <td>0</td>\n",
              "      <td>0</td>\n",
              "      <td>1</td>\n",
              "      <td>0</td>\n",
              "      <td>0</td>\n",
              "      <td>0</td>\n",
              "      <td>1</td>\n",
              "      <td>1</td>\n",
              "      <td>2</td>\n",
              "      <td>1</td>\n",
              "      <td>...</td>\n",
              "      <td>0.005051</td>\n",
              "      <td>0.007027</td>\n",
              "      <td>0.007381</td>\n",
              "      <td>0.006622</td>\n",
              "      <td>0.000965</td>\n",
              "      <td>0.385986</td>\n",
              "      <td>0.002201</td>\n",
              "      <td>0.000834</td>\n",
              "      <td>0.003445</td>\n",
              "      <td>0</td>\n",
              "    </tr>\n",
              "    <tr>\n",
              "      <th>51</th>\n",
              "      <td>0</td>\n",
              "      <td>1</td>\n",
              "      <td>1</td>\n",
              "      <td>0</td>\n",
              "      <td>6</td>\n",
              "      <td>0</td>\n",
              "      <td>1</td>\n",
              "      <td>1</td>\n",
              "      <td>1</td>\n",
              "      <td>1</td>\n",
              "      <td>...</td>\n",
              "      <td>0.005051</td>\n",
              "      <td>0.007027</td>\n",
              "      <td>0.002705</td>\n",
              "      <td>0.006184</td>\n",
              "      <td>0.001899</td>\n",
              "      <td>0.385986</td>\n",
              "      <td>0.008186</td>\n",
              "      <td>0.005558</td>\n",
              "      <td>0.002983</td>\n",
              "      <td>0</td>\n",
              "    </tr>\n",
              "    <tr>\n",
              "      <th>64</th>\n",
              "      <td>0</td>\n",
              "      <td>0</td>\n",
              "      <td>1</td>\n",
              "      <td>0</td>\n",
              "      <td>4</td>\n",
              "      <td>0</td>\n",
              "      <td>1</td>\n",
              "      <td>1</td>\n",
              "      <td>1</td>\n",
              "      <td>0</td>\n",
              "      <td>...</td>\n",
              "      <td>0.005051</td>\n",
              "      <td>0.007027</td>\n",
              "      <td>0.002974</td>\n",
              "      <td>0.004162</td>\n",
              "      <td>0.005764</td>\n",
              "      <td>0.385986</td>\n",
              "      <td>0.008156</td>\n",
              "      <td>0.006943</td>\n",
              "      <td>0.000905</td>\n",
              "      <td>0</td>\n",
              "    </tr>\n",
              "    <tr>\n",
              "      <th>77</th>\n",
              "      <td>0</td>\n",
              "      <td>1</td>\n",
              "      <td>1</td>\n",
              "      <td>0</td>\n",
              "      <td>1</td>\n",
              "      <td>0</td>\n",
              "      <td>1</td>\n",
              "      <td>1</td>\n",
              "      <td>2</td>\n",
              "      <td>1</td>\n",
              "      <td>...</td>\n",
              "      <td>0.005051</td>\n",
              "      <td>0.007027</td>\n",
              "      <td>0.009399</td>\n",
              "      <td>0.007835</td>\n",
              "      <td>0.000957</td>\n",
              "      <td>0.385986</td>\n",
              "      <td>0.009056</td>\n",
              "      <td>0.006943</td>\n",
              "      <td>0.001446</td>\n",
              "      <td>0</td>\n",
              "    </tr>\n",
              "    <tr>\n",
              "      <th>90</th>\n",
              "      <td>0</td>\n",
              "      <td>2</td>\n",
              "      <td>0</td>\n",
              "      <td>0</td>\n",
              "      <td>2</td>\n",
              "      <td>0</td>\n",
              "      <td>0</td>\n",
              "      <td>1</td>\n",
              "      <td>2</td>\n",
              "      <td>1</td>\n",
              "      <td>...</td>\n",
              "      <td>0.005051</td>\n",
              "      <td>0.007027</td>\n",
              "      <td>0.006012</td>\n",
              "      <td>0.005222</td>\n",
              "      <td>0.000937</td>\n",
              "      <td>0.385986</td>\n",
              "      <td>0.009789</td>\n",
              "      <td>0.003704</td>\n",
              "      <td>0.006275</td>\n",
              "      <td>0</td>\n",
              "    </tr>\n",
              "    <tr>\n",
              "      <th>103</th>\n",
              "      <td>0</td>\n",
              "      <td>2</td>\n",
              "      <td>1</td>\n",
              "      <td>0</td>\n",
              "      <td>6</td>\n",
              "      <td>0</td>\n",
              "      <td>1</td>\n",
              "      <td>1</td>\n",
              "      <td>2</td>\n",
              "      <td>1</td>\n",
              "      <td>...</td>\n",
              "      <td>0.005051</td>\n",
              "      <td>0.007027</td>\n",
              "      <td>0.002262</td>\n",
              "      <td>0.005219</td>\n",
              "      <td>0.002153</td>\n",
              "      <td>0.385986</td>\n",
              "      <td>0.001169</td>\n",
              "      <td>0.003349</td>\n",
              "      <td>0.000675</td>\n",
              "      <td>0</td>\n",
              "    </tr>\n",
              "    <tr>\n",
              "      <th>116</th>\n",
              "      <td>1</td>\n",
              "      <td>6</td>\n",
              "      <td>0</td>\n",
              "      <td>0</td>\n",
              "      <td>0</td>\n",
              "      <td>0</td>\n",
              "      <td>1</td>\n",
              "      <td>1</td>\n",
              "      <td>3</td>\n",
              "      <td>0</td>\n",
              "      <td>...</td>\n",
              "      <td>0.005051</td>\n",
              "      <td>0.007027</td>\n",
              "      <td>1.000977</td>\n",
              "      <td>0.007061</td>\n",
              "      <td>0.875977</td>\n",
              "      <td>0.184570</td>\n",
              "      <td>1.004883</td>\n",
              "      <td>0.003349</td>\n",
              "      <td>0.734375</td>\n",
              "      <td>1</td>\n",
              "    </tr>\n",
              "    <tr>\n",
              "      <th>129</th>\n",
              "      <td>0</td>\n",
              "      <td>0</td>\n",
              "      <td>0</td>\n",
              "      <td>0</td>\n",
              "      <td>4</td>\n",
              "      <td>0</td>\n",
              "      <td>1</td>\n",
              "      <td>1</td>\n",
              "      <td>1</td>\n",
              "      <td>1</td>\n",
              "      <td>...</td>\n",
              "      <td>0.005051</td>\n",
              "      <td>0.007027</td>\n",
              "      <td>0.009811</td>\n",
              "      <td>0.002213</td>\n",
              "      <td>0.004070</td>\n",
              "      <td>0.385986</td>\n",
              "      <td>0.005428</td>\n",
              "      <td>0.007107</td>\n",
              "      <td>0.006271</td>\n",
              "      <td>1</td>\n",
              "    </tr>\n",
              "  </tbody>\n",
              "</table>\n",
              "<p>10 rows × 189 columns</p>\n",
              "</div>\n",
              "    <div class=\"colab-df-buttons\">\n",
              "\n",
              "  <div class=\"colab-df-container\">\n",
              "    <button class=\"colab-df-convert\" onclick=\"convertToInteractive('df-c55d6bec-37a6-445a-870c-6876cf16db52')\"\n",
              "            title=\"Convert this dataframe to an interactive table.\"\n",
              "            style=\"display:none;\">\n",
              "\n",
              "  <svg xmlns=\"http://www.w3.org/2000/svg\" height=\"24px\" viewBox=\"0 -960 960 960\">\n",
              "    <path d=\"M120-120v-720h720v720H120Zm60-500h600v-160H180v160Zm220 220h160v-160H400v160Zm0 220h160v-160H400v160ZM180-400h160v-160H180v160Zm440 0h160v-160H620v160ZM180-180h160v-160H180v160Zm440 0h160v-160H620v160Z\"/>\n",
              "  </svg>\n",
              "    </button>\n",
              "\n",
              "  <style>\n",
              "    .colab-df-container {\n",
              "      display:flex;\n",
              "      gap: 12px;\n",
              "    }\n",
              "\n",
              "    .colab-df-convert {\n",
              "      background-color: #E8F0FE;\n",
              "      border: none;\n",
              "      border-radius: 50%;\n",
              "      cursor: pointer;\n",
              "      display: none;\n",
              "      fill: #1967D2;\n",
              "      height: 32px;\n",
              "      padding: 0 0 0 0;\n",
              "      width: 32px;\n",
              "    }\n",
              "\n",
              "    .colab-df-convert:hover {\n",
              "      background-color: #E2EBFA;\n",
              "      box-shadow: 0px 1px 2px rgba(60, 64, 67, 0.3), 0px 1px 3px 1px rgba(60, 64, 67, 0.15);\n",
              "      fill: #174EA6;\n",
              "    }\n",
              "\n",
              "    .colab-df-buttons div {\n",
              "      margin-bottom: 4px;\n",
              "    }\n",
              "\n",
              "    [theme=dark] .colab-df-convert {\n",
              "      background-color: #3B4455;\n",
              "      fill: #D2E3FC;\n",
              "    }\n",
              "\n",
              "    [theme=dark] .colab-df-convert:hover {\n",
              "      background-color: #434B5C;\n",
              "      box-shadow: 0px 1px 3px 1px rgba(0, 0, 0, 0.15);\n",
              "      filter: drop-shadow(0px 1px 2px rgba(0, 0, 0, 0.3));\n",
              "      fill: #FFFFFF;\n",
              "    }\n",
              "  </style>\n",
              "\n",
              "    <script>\n",
              "      const buttonEl =\n",
              "        document.querySelector('#df-c55d6bec-37a6-445a-870c-6876cf16db52 button.colab-df-convert');\n",
              "      buttonEl.style.display =\n",
              "        google.colab.kernel.accessAllowed ? 'block' : 'none';\n",
              "\n",
              "      async function convertToInteractive(key) {\n",
              "        const element = document.querySelector('#df-c55d6bec-37a6-445a-870c-6876cf16db52');\n",
              "        const dataTable =\n",
              "          await google.colab.kernel.invokeFunction('convertToInteractive',\n",
              "                                                    [key], {});\n",
              "        if (!dataTable) return;\n",
              "\n",
              "        const docLinkHtml = 'Like what you see? Visit the ' +\n",
              "          '<a target=\"_blank\" href=https://colab.research.google.com/notebooks/data_table.ipynb>data table notebook</a>'\n",
              "          + ' to learn more about interactive tables.';\n",
              "        element.innerHTML = '';\n",
              "        dataTable['output_type'] = 'display_data';\n",
              "        await google.colab.output.renderOutput(dataTable, element);\n",
              "        const docLink = document.createElement('div');\n",
              "        docLink.innerHTML = docLinkHtml;\n",
              "        element.appendChild(docLink);\n",
              "      }\n",
              "    </script>\n",
              "  </div>\n",
              "\n",
              "\n",
              "<div id=\"df-8022dc80-c562-4c21-b188-4f9761543a71\">\n",
              "  <button class=\"colab-df-quickchart\" onclick=\"quickchart('df-8022dc80-c562-4c21-b188-4f9761543a71')\"\n",
              "            title=\"Suggest charts\"\n",
              "            style=\"display:none;\">\n",
              "\n",
              "<svg xmlns=\"http://www.w3.org/2000/svg\" height=\"24px\"viewBox=\"0 0 24 24\"\n",
              "     width=\"24px\">\n",
              "    <g>\n",
              "        <path d=\"M19 3H5c-1.1 0-2 .9-2 2v14c0 1.1.9 2 2 2h14c1.1 0 2-.9 2-2V5c0-1.1-.9-2-2-2zM9 17H7v-7h2v7zm4 0h-2V7h2v10zm4 0h-2v-4h2v4z\"/>\n",
              "    </g>\n",
              "</svg>\n",
              "  </button>\n",
              "\n",
              "<style>\n",
              "  .colab-df-quickchart {\n",
              "      --bg-color: #E8F0FE;\n",
              "      --fill-color: #1967D2;\n",
              "      --hover-bg-color: #E2EBFA;\n",
              "      --hover-fill-color: #174EA6;\n",
              "      --disabled-fill-color: #AAA;\n",
              "      --disabled-bg-color: #DDD;\n",
              "  }\n",
              "\n",
              "  [theme=dark] .colab-df-quickchart {\n",
              "      --bg-color: #3B4455;\n",
              "      --fill-color: #D2E3FC;\n",
              "      --hover-bg-color: #434B5C;\n",
              "      --hover-fill-color: #FFFFFF;\n",
              "      --disabled-bg-color: #3B4455;\n",
              "      --disabled-fill-color: #666;\n",
              "  }\n",
              "\n",
              "  .colab-df-quickchart {\n",
              "    background-color: var(--bg-color);\n",
              "    border: none;\n",
              "    border-radius: 50%;\n",
              "    cursor: pointer;\n",
              "    display: none;\n",
              "    fill: var(--fill-color);\n",
              "    height: 32px;\n",
              "    padding: 0;\n",
              "    width: 32px;\n",
              "  }\n",
              "\n",
              "  .colab-df-quickchart:hover {\n",
              "    background-color: var(--hover-bg-color);\n",
              "    box-shadow: 0 1px 2px rgba(60, 64, 67, 0.3), 0 1px 3px 1px rgba(60, 64, 67, 0.15);\n",
              "    fill: var(--button-hover-fill-color);\n",
              "  }\n",
              "\n",
              "  .colab-df-quickchart-complete:disabled,\n",
              "  .colab-df-quickchart-complete:disabled:hover {\n",
              "    background-color: var(--disabled-bg-color);\n",
              "    fill: var(--disabled-fill-color);\n",
              "    box-shadow: none;\n",
              "  }\n",
              "\n",
              "  .colab-df-spinner {\n",
              "    border: 2px solid var(--fill-color);\n",
              "    border-color: transparent;\n",
              "    border-bottom-color: var(--fill-color);\n",
              "    animation:\n",
              "      spin 1s steps(1) infinite;\n",
              "  }\n",
              "\n",
              "  @keyframes spin {\n",
              "    0% {\n",
              "      border-color: transparent;\n",
              "      border-bottom-color: var(--fill-color);\n",
              "      border-left-color: var(--fill-color);\n",
              "    }\n",
              "    20% {\n",
              "      border-color: transparent;\n",
              "      border-left-color: var(--fill-color);\n",
              "      border-top-color: var(--fill-color);\n",
              "    }\n",
              "    30% {\n",
              "      border-color: transparent;\n",
              "      border-left-color: var(--fill-color);\n",
              "      border-top-color: var(--fill-color);\n",
              "      border-right-color: var(--fill-color);\n",
              "    }\n",
              "    40% {\n",
              "      border-color: transparent;\n",
              "      border-right-color: var(--fill-color);\n",
              "      border-top-color: var(--fill-color);\n",
              "    }\n",
              "    60% {\n",
              "      border-color: transparent;\n",
              "      border-right-color: var(--fill-color);\n",
              "    }\n",
              "    80% {\n",
              "      border-color: transparent;\n",
              "      border-right-color: var(--fill-color);\n",
              "      border-bottom-color: var(--fill-color);\n",
              "    }\n",
              "    90% {\n",
              "      border-color: transparent;\n",
              "      border-bottom-color: var(--fill-color);\n",
              "    }\n",
              "  }\n",
              "</style>\n",
              "\n",
              "  <script>\n",
              "    async function quickchart(key) {\n",
              "      const quickchartButtonEl =\n",
              "        document.querySelector('#' + key + ' button');\n",
              "      quickchartButtonEl.disabled = true;  // To prevent multiple clicks.\n",
              "      quickchartButtonEl.classList.add('colab-df-spinner');\n",
              "      try {\n",
              "        const charts = await google.colab.kernel.invokeFunction(\n",
              "            'suggestCharts', [key], {});\n",
              "      } catch (error) {\n",
              "        console.error('Error during call to suggestCharts:', error);\n",
              "      }\n",
              "      quickchartButtonEl.classList.remove('colab-df-spinner');\n",
              "      quickchartButtonEl.classList.add('colab-df-quickchart-complete');\n",
              "    }\n",
              "    (() => {\n",
              "      let quickchartButtonEl =\n",
              "        document.querySelector('#df-8022dc80-c562-4c21-b188-4f9761543a71 button');\n",
              "      quickchartButtonEl.style.display =\n",
              "        google.colab.kernel.accessAllowed ? 'block' : 'none';\n",
              "    })();\n",
              "  </script>\n",
              "</div>\n",
              "\n",
              "    </div>\n",
              "  </div>\n"
            ],
            "application/vnd.google.colaboratory.intrinsic+json": {
              "type": "dataframe",
              "variable_name": "train_df"
            }
          },
          "metadata": {},
          "execution_count": 16
        }
      ],
      "source": [
        "train_df.head(10)"
      ]
    },
    {
      "cell_type": "markdown",
      "metadata": {
        "id": "0K12n8fOW7yi"
      },
      "source": [
        "# Model Training"
      ]
    },
    {
      "cell_type": "code",
      "execution_count": 17,
      "metadata": {
        "id": "CSJxIdtwAVcu"
      },
      "outputs": [],
      "source": [
        "X = train_df.drop('target', axis=1)\n",
        "y = train_df['target']\n",
        "\n",
        "# 데이터 분할\n",
        "X_train, X_test, y_train, y_test = train_test_split(X, y, test_size=0.2, random_state=42)"
      ]
    },
    {
      "cell_type": "code",
      "execution_count": 18,
      "metadata": {
        "colab": {
          "base_uri": "https://localhost:8080/"
        },
        "id": "JlO7zB3_LU0r",
        "outputId": "3441aee2-b24f-443f-8c13-a6cbfd6eb84a"
      },
      "outputs": [
        {
          "output_type": "execute_result",
          "data": {
            "text/plain": [
              "(367130, 188)"
            ]
          },
          "metadata": {},
          "execution_count": 18
        }
      ],
      "source": [
        "X_train.shape"
      ]
    },
    {
      "cell_type": "code",
      "execution_count": 19,
      "metadata": {
        "colab": {
          "base_uri": "https://localhost:8080/"
        },
        "id": "vIxYuw_FLdJv",
        "outputId": "5531c210-346c-42d2-abd1-0296cc1dca21"
      },
      "outputs": [
        {
          "output_type": "execute_result",
          "data": {
            "text/plain": [
              "(91783, 188)"
            ]
          },
          "metadata": {},
          "execution_count": 19
        }
      ],
      "source": [
        "X_test.shape"
      ]
    },
    {
      "cell_type": "code",
      "execution_count": 20,
      "metadata": {
        "colab": {
          "base_uri": "https://localhost:8080/"
        },
        "id": "NUPb3Gk0LdHq",
        "outputId": "17358401-82c7-475c-fa93-572ca28ef26a"
      },
      "outputs": [
        {
          "output_type": "execute_result",
          "data": {
            "text/plain": [
              "(367130,)"
            ]
          },
          "metadata": {},
          "execution_count": 20
        }
      ],
      "source": [
        "y_train.shape"
      ]
    },
    {
      "cell_type": "code",
      "execution_count": 21,
      "metadata": {
        "colab": {
          "base_uri": "https://localhost:8080/"
        },
        "id": "dXbfQ-IvLdFE",
        "outputId": "e4f79182-da18-4eb2-b281-94337c0a05a1"
      },
      "outputs": [
        {
          "output_type": "execute_result",
          "data": {
            "text/plain": [
              "(91783,)"
            ]
          },
          "metadata": {},
          "execution_count": 21
        }
      ],
      "source": [
        "y_test.shape"
      ]
    },
    {
      "cell_type": "code",
      "source": [
        "!pip install catboost"
      ],
      "metadata": {
        "colab": {
          "base_uri": "https://localhost:8080/"
        },
        "id": "JBju43nUrpz5",
        "outputId": "3b1a1436-09d6-4481-fb7e-0c4dacdf8dd3"
      },
      "execution_count": 22,
      "outputs": [
        {
          "output_type": "stream",
          "name": "stdout",
          "text": [
            "Collecting catboost\n",
            "  Downloading catboost-1.2.5-cp310-cp310-manylinux2014_x86_64.whl (98.2 MB)\n",
            "\u001b[2K     \u001b[90m━━━━━━━━━━━━━━━━━━━━━━━━━━━━━━━━━━━━━━━━\u001b[0m \u001b[32m98.2/98.2 MB\u001b[0m \u001b[31m22.5 MB/s\u001b[0m eta \u001b[36m0:00:00\u001b[0m\n",
            "\u001b[?25hRequirement already satisfied: graphviz in /usr/local/lib/python3.10/dist-packages (from catboost) (0.20.3)\n",
            "Requirement already satisfied: matplotlib in /usr/local/lib/python3.10/dist-packages (from catboost) (3.7.1)\n",
            "Requirement already satisfied: numpy>=1.16.0 in /usr/local/lib/python3.10/dist-packages (from catboost) (1.25.2)\n",
            "Requirement already satisfied: pandas>=0.24 in /usr/local/lib/python3.10/dist-packages (from catboost) (2.0.3)\n",
            "Requirement already satisfied: scipy in /usr/local/lib/python3.10/dist-packages (from catboost) (1.11.4)\n",
            "Requirement already satisfied: plotly in /usr/local/lib/python3.10/dist-packages (from catboost) (5.15.0)\n",
            "Requirement already satisfied: six in /usr/local/lib/python3.10/dist-packages (from catboost) (1.16.0)\n",
            "Requirement already satisfied: python-dateutil>=2.8.2 in /usr/local/lib/python3.10/dist-packages (from pandas>=0.24->catboost) (2.8.2)\n",
            "Requirement already satisfied: pytz>=2020.1 in /usr/local/lib/python3.10/dist-packages (from pandas>=0.24->catboost) (2023.4)\n",
            "Requirement already satisfied: tzdata>=2022.1 in /usr/local/lib/python3.10/dist-packages (from pandas>=0.24->catboost) (2024.1)\n",
            "Requirement already satisfied: contourpy>=1.0.1 in /usr/local/lib/python3.10/dist-packages (from matplotlib->catboost) (1.2.1)\n",
            "Requirement already satisfied: cycler>=0.10 in /usr/local/lib/python3.10/dist-packages (from matplotlib->catboost) (0.12.1)\n",
            "Requirement already satisfied: fonttools>=4.22.0 in /usr/local/lib/python3.10/dist-packages (from matplotlib->catboost) (4.53.0)\n",
            "Requirement already satisfied: kiwisolver>=1.0.1 in /usr/local/lib/python3.10/dist-packages (from matplotlib->catboost) (1.4.5)\n",
            "Requirement already satisfied: packaging>=20.0 in /usr/local/lib/python3.10/dist-packages (from matplotlib->catboost) (24.1)\n",
            "Requirement already satisfied: pillow>=6.2.0 in /usr/local/lib/python3.10/dist-packages (from matplotlib->catboost) (9.4.0)\n",
            "Requirement already satisfied: pyparsing>=2.3.1 in /usr/local/lib/python3.10/dist-packages (from matplotlib->catboost) (3.1.2)\n",
            "Requirement already satisfied: tenacity>=6.2.0 in /usr/local/lib/python3.10/dist-packages (from plotly->catboost) (8.3.0)\n",
            "Installing collected packages: catboost\n",
            "Successfully installed catboost-1.2.5\n"
          ]
        }
      ]
    },
    {
      "cell_type": "code",
      "execution_count": 23,
      "metadata": {
        "colab": {
          "base_uri": "https://localhost:8080/"
        },
        "id": "WrxCKMuCLKOE",
        "outputId": "66ae4339-f1cc-4c9a-fb16-5d7afc6b09c1"
      },
      "outputs": [
        {
          "output_type": "stream",
          "name": "stdout",
          "text": [
            "0:\tlearn: 0.8755046\ttest: 0.8749333\tbest: 0.8749333 (0)\ttotal: 729ms\tremaining: 12m 8s\n",
            "100:\tlearn: 0.8901179\ttest: 0.8883889\tbest: 0.8884870 (99)\ttotal: 1m 9s\tremaining: 10m 18s\n",
            "200:\tlearn: 0.8937897\ttest: 0.8917120\tbest: 0.8917120 (200)\ttotal: 2m 21s\tremaining: 9m 21s\n",
            "300:\tlearn: 0.8962466\ttest: 0.8941198\tbest: 0.8941307 (297)\ttotal: 3m 28s\tremaining: 8m 3s\n",
            "400:\tlearn: 0.8980171\ttest: 0.8957868\tbest: 0.8957868 (400)\ttotal: 4m 33s\tremaining: 6m 48s\n",
            "500:\tlearn: 0.8997685\ttest: 0.8969635\tbest: 0.8969635 (500)\ttotal: 5m 39s\tremaining: 5m 37s\n",
            "600:\tlearn: 0.9011304\ttest: 0.8975736\tbest: 0.8976281 (585)\ttotal: 6m 44s\tremaining: 4m 28s\n",
            "700:\tlearn: 0.9024215\ttest: 0.8976935\tbest: 0.8977371 (697)\ttotal: 7m 48s\tremaining: 3m 19s\n",
            "800:\tlearn: 0.9033857\ttest: 0.8983254\tbest: 0.8983472 (799)\ttotal: 8m 53s\tremaining: 2m 12s\n",
            "900:\tlearn: 0.9043227\ttest: 0.8985215\tbest: 0.8985324 (871)\ttotal: 9m 58s\tremaining: 1m 5s\n",
            "999:\tlearn: 0.9051562\ttest: 0.8987612\tbest: 0.8988375 (973)\ttotal: 11m 2s\tremaining: 0us\n",
            "\n",
            "bestTest = 0.8988374753\n",
            "bestIteration = 973\n",
            "\n",
            "Shrink model to first 974 iterations.\n"
          ]
        },
        {
          "output_type": "execute_result",
          "data": {
            "text/plain": [
              "<catboost.core.CatBoostClassifier at 0x7f95e49e0670>"
            ]
          },
          "metadata": {},
          "execution_count": 23
        }
      ],
      "source": [
        "# catboost 모델 생성\n",
        "from catboost import CatBoostClassifier\n",
        "\n",
        "model = CatBoostClassifier(iterations=1000, learning_rate=0.01, depth=10, loss_function='MultiClass', eval_metric='Accuracy', random_seed=42, od_type='Iter', od_wait=100)\n",
        "model.fit(X_train, y_train, eval_set=(X_test, y_test), use_best_model=True, verbose=100)"
      ]
    },
    {
      "cell_type": "code",
      "execution_count": 24,
      "metadata": {
        "id": "_LfAmIyciby4"
      },
      "outputs": [],
      "source": [
        "# 예측\n",
        "y_pred = model.predict(X_test)"
      ]
    },
    {
      "cell_type": "markdown",
      "metadata": {
        "id": "LN-Zl0rUimee"
      },
      "source": [
        "# confusion matrix"
      ]
    },
    {
      "cell_type": "code",
      "execution_count": 25,
      "metadata": {
        "colab": {
          "base_uri": "https://localhost:8080/",
          "height": 765
        },
        "id": "pM8v2BzcidL9",
        "outputId": "87a3eb5e-1540-408b-dcdb-0a0e7566d343"
      },
      "outputs": [
        {
          "output_type": "stream",
          "name": "stdout",
          "text": [
            "Accuracy: 0.8988374753494656\n",
            "F1 Score: 0.8988774987411702\n",
            "Precision: 0.8989183663140359\n",
            "Recall: 0.8988374753494656\n",
            "ROC AUC Score: 0.8677842949089339\n"
          ]
        },
        {
          "output_type": "display_data",
          "data": {
            "text/plain": [
              "<Figure size 1200x800 with 2 Axes>"
            ],
            "image/png": "[encoded data removed]"
          },
          "metadata": {}
        }
      ],
      "source": [
        "from sklearn.metrics import accuracy_score, classification_report, confusion_matrix, f1_score, precision_score, recall_score, roc_auc_score\n",
        "\n",
        "print(f'Accuracy: {accuracy_score(y_test, y_pred)}')\n",
        "print(f'F1 Score: {f1_score(y_test, y_pred, average=\"weighted\")}')\n",
        "print(f'Precision: {precision_score(y_test, y_pred, average=\"weighted\")}')\n",
        "print(f'Recall: {recall_score(y_test, y_pred, average=\"weighted\")}')\n",
        "print(f'ROC AUC Score: {roc_auc_score(y_test, y_pred)}')\n",
        "\n",
        "cm = confusion_matrix(y_test, y_pred)\n",
        "plt.figure(figsize=(12, 8))\n",
        "sns.heatmap(cm, annot=True, fmt='d', cmap='coolwarm')\n",
        "plt.show()"
      ]
    },
    {
      "cell_type": "markdown",
      "metadata": {
        "id": "rIoq6ECMij54"
      },
      "source": [
        "# feature importance"
      ]
    },
    {
      "cell_type": "markdown",
      "metadata": {
        "id": "yERMSMdnrNqn"
      },
      "source": [
        "# AMEX-Metrix Score"
      ]
    },
    {
      "cell_type": "code",
      "execution_count": 26,
      "metadata": {
        "colab": {
          "base_uri": "https://localhost:8080/"
        },
        "id": "srJoJ4fIMbkP",
        "outputId": "03ac2a06-14b7-4f2f-8838-26c83dd4e27e"
      },
      "outputs": [
        {
          "output_type": "stream",
          "name": "stdout",
          "text": [
            "AMEX Score: 0.7816500250513909\n"
          ]
        }
      ],
      "source": [
        "def amex_metric(y_true: pd.DataFrame, y_pred: pd.DataFrame) -> float:\n",
        "\n",
        "    def top_four_percent_captured(y_true: pd.DataFrame, y_pred: pd.DataFrame) -> float:\n",
        "        df = (pd.concat([y_true, y_pred], axis='columns')\n",
        "              .sort_values('prediction', ascending=False))\n",
        "        df['weight'] = df['target'].apply(lambda x: 20 if x==0 else 1)\n",
        "        four_pct_cutoff = int(0.04 * df['weight'].sum())\n",
        "        df['weight_cumsum'] = df['weight'].cumsum()\n",
        "        df_cutoff = df.loc[df['weight_cumsum'] <= four_pct_cutoff]\n",
        "        return (df_cutoff['target'] == 1).sum() / (df['target'] == 1).sum()\n",
        "\n",
        "    def weighted_gini(y_true: pd.DataFrame, y_pred: pd.DataFrame) -> float:\n",
        "        df = (pd.concat([y_true, y_pred], axis='columns')\n",
        "              .sort_values('prediction', ascending=False))\n",
        "        df['weight'] = df['target'].apply(lambda x: 20 if x==0 else 1)\n",
        "        df['random'] = (df['weight'] / df['weight'].sum()).cumsum()\n",
        "        total_pos = (df['target'] * df['weight']).sum()\n",
        "        df['cum_pos_found'] = (df['target'] * df['weight']).cumsum()\n",
        "        df['lorentz'] = df['cum_pos_found'] / total_pos\n",
        "        df['gini'] = (df['lorentz'] - df['random']) * df['weight']\n",
        "        return df['gini'].sum()\n",
        "\n",
        "    def normalized_weighted_gini(y_true: pd.DataFrame, y_pred: pd.DataFrame) -> float:\n",
        "        y_true_pred = y_true.rename(columns={'target': 'prediction'})\n",
        "        return weighted_gini(y_true, y_pred) / weighted_gini(y_true, y_true_pred)\n",
        "\n",
        "    g = normalized_weighted_gini(y_true, y_pred)\n",
        "    d = top_four_percent_captured(y_true, y_pred)\n",
        "\n",
        "    return 0.5 * (g + d)\n",
        "\n",
        "# 예측 확률 계산\n",
        "pred_prob = model.predict_proba(X_test)[:, 1]\n",
        "y_pred = pd.DataFrame({'prediction': pred_prob}, index=X_test.index)\n",
        "y_true = pd.DataFrame({'target': y_test}, index=X_test.index)\n",
        "\n",
        "# 성능 평가\n",
        "print(\"AMEX Score:\", amex_metric(y_true, y_pred))"
      ]
    },
    {
      "cell_type": "code",
      "execution_count": 27,
      "metadata": {
        "colab": {
          "base_uri": "https://localhost:8080/"
        },
        "id": "gm7295E2tp2l",
        "outputId": "52dbeaed-0065-4ac5-ca9f-33c86dccecc0"
      },
      "outputs": [
        {
          "output_type": "stream",
          "name": "stdout",
          "text": [
            "Model Performance:\n",
            "MSE: 0.10116252465053441\n",
            "MAE: 0.10116252465053441\n",
            "R^2: 0.46955136504360406\n"
          ]
        }
      ],
      "source": [
        "from sklearn.metrics import mean_squared_error, mean_absolute_error, r2_score\n",
        "\n",
        "# 모델의 성능 리포트를 출력하는 함수\n",
        "def generate_model_report(y_true, y_pred):\n",
        "    # 평가 지표 계산\n",
        "    mse = mean_squared_error(y_true, y_pred)\n",
        "    mae = mean_absolute_error(y_true, y_pred)\n",
        "    r2 = r2_score(y_true, y_pred)\n",
        "\n",
        "    # 결과 출력\n",
        "    print(\"Model Performance:\")\n",
        "    print(f\"MSE: {mse}\")\n",
        "    print(f\"MAE: {mae}\")\n",
        "    print(f\"R^2: {r2}\")\n",
        "\n",
        "# 예측 결과와 실제 타겟 데이터를 준비\n",
        "y_true = y_test\n",
        "y_pred = model.predict(X_test)\n",
        "\n",
        "# 모델의 성능 리포트 출력\n",
        "generate_model_report(y_true, y_pred)"
      ]
    },
    {
      "cell_type": "code",
      "execution_count": 29,
      "metadata": {
        "colab": {
          "base_uri": "https://localhost:8080/"
        },
        "id": "FGTWAN4fuE1N",
        "outputId": "7e302dbb-acba-4f8d-dd42-a84b9bb21c03"
      },
      "outputs": [
        {
          "output_type": "stream",
          "name": "stdout",
          "text": [
            "Accuracy: 0.8988374753494656\n",
            "Precision: 0.8020762711864406\n",
            "Precision: 0.8020762711864406\n",
            "Recall: 0.804018179501338\n",
            "F1 Score: 0.8030460513756018\n",
            "\n",
            "XGBoost Report:\n",
            "               precision    recall  f1-score   support\n",
            "\n",
            "           0       0.93      0.93      0.93     68240\n",
            "           1       0.80      0.80      0.80     23543\n",
            "\n",
            "    accuracy                           0.90     91783\n",
            "   macro avg       0.87      0.87      0.87     91783\n",
            "weighted avg       0.90      0.90      0.90     91783\n",
            "\n"
          ]
        }
      ],
      "source": [
        "from sklearn.metrics import accuracy_score, precision_score, recall_score, f1_score, classification_report\n",
        "\n",
        "# 정확도 계산\n",
        "accuracy = accuracy_score(y_test, y_pred)\n",
        "# 정밀도 계산\n",
        "precision = precision_score(y_test, y_pred)\n",
        "# 재현율 계산\n",
        "recall = recall_score(y_test, y_pred)\n",
        "# F1 점수 계산\n",
        "f1 = f1_score(y_test, y_pred)\n",
        "\n",
        "print(f'Accuracy: {accuracy}')\n",
        "print(f'Precision: {precision}')\n",
        "print(f'Precision: {precision}')\n",
        "print(f'Recall: {recall}')\n",
        "print(f'F1 Score: {f1}')\n",
        "\n",
        "# 분류 보고서\n",
        "report = classification_report(y_test, y_pred)\n",
        "print(\"\\nXGBoost Report:\\n\", report)"
      ]
    },
    {
      "cell_type": "markdown",
      "metadata": {
        "id": "dk5UlaD1UpSD"
      },
      "source": [
        "# test data 실험"
      ]
    },
    {
      "cell_type": "code",
      "execution_count": 30,
      "metadata": {
        "id": "EjCO6s9BXCxr"
      },
      "outputs": [],
      "source": [
        "import pandas as pd\n",
        "import numpy as np\n",
        "import matplotlib.pyplot as plt\n",
        "import seaborn as sns\n",
        "import warnings\n",
        "warnings.filterwarnings('ignore')\n",
        "\n",
        "from sklearn.preprocessing import LabelEncoder\n",
        "from sklearn.model_selection import train_test_split\n",
        "from xgboost import XGBRegressor\n",
        "from xgboost import XGBClassifier\n",
        "from sklearn.metrics import mean_squared_error, mean_absolute_error, r2_score\n",
        "import matplotlib.pyplot as plt\n",
        "from sklearn.preprocessing import OneHotEncoder\n",
        "from sklearn.utils import resample"
      ]
    },
    {
      "cell_type": "code",
      "execution_count": 31,
      "metadata": {
        "id": "y08za6ZPMPnQ"
      },
      "outputs": [],
      "source": [
        "# test_data 로드\n",
        "test_df = pd.read_feather(\"/content/drive/MyDrive/data_ftr/test_data.ftr\")"
      ]
    },
    {
      "cell_type": "code",
      "execution_count": 32,
      "metadata": {
        "colab": {
          "base_uri": "https://localhost:8080/"
        },
        "id": "uPq-fZ3RUt2W",
        "outputId": "3f200bc3-328d-4c1f-d566-177cb9f6f8d6"
      },
      "outputs": [
        {
          "output_type": "execute_result",
          "data": {
            "text/plain": [
              "(924621, 190)"
            ]
          },
          "metadata": {},
          "execution_count": 32
        }
      ],
      "source": [
        "test_df = test_df.groupby('customer_ID')\n",
        "test_df = test_df.tail(1)\n",
        "test_df.shape"
      ]
    },
    {
      "cell_type": "code",
      "execution_count": 33,
      "metadata": {
        "colab": {
          "base_uri": "https://localhost:8080/",
          "height": 673
        },
        "id": "Q5f69DBAU7sc",
        "outputId": "31ad2502-304a-497c-cbe2-fc0093613601"
      },
      "outputs": [
        {
          "output_type": "execute_result",
          "data": {
            "text/plain": [
              "                                           customer_ID        S_2       P_2  \\\n",
              "8    00000469ba478561f23a92a868bd366de6f6527a684c9a... 2019-10-12  0.568848   \n",
              "21   00001bf2e77ff879fab36aa4fac689b9ba411dae63ae39... 2019-04-15  0.841309   \n",
              "34   0000210045da4f81e5f122c6bde5c2a617d03eef67f82c... 2019-10-16  0.697754   \n",
              "47   00003b41e58ede33b8daf61ab56d9952f17c9ad1c3976c... 2019-04-22  0.513184   \n",
              "60   00004b22eaeeeb0ec976890c1d9bfc14fd9427e98c4ee9... 2019-10-22  0.254395   \n",
              "73   00004ffe6e01e1b688170bbd108da8351bc4c316eacfef... 2019-10-04  1.003906   \n",
              "86   00007cfcce97abfa0b4fa0647986157281d01d3ab90de9... 2019-04-27  0.351318   \n",
              "99   000089cc2a30dad8e6ba39126f9d86df6088c9f975093a... 2019-04-25  0.307129   \n",
              "112  00008f50a1dd76fa211ba36a2b0d5a1b201e4134a5fd53... 2019-10-24  0.332031   \n",
              "125  0000b48a4f27dc1d61e78d081678e811620300b88eb3ab... 2019-10-09  0.949707   \n",
              "\n",
              "         D_39       B_1       B_2       R_1       S_3      D_41       B_3  \\\n",
              "8    0.121399  0.010780  1.009766  0.006924  0.149414  0.000396  0.003576   \n",
              "21   0.126465  0.016556  1.008789  0.009712  0.112183  0.006191  0.011383   \n",
              "34   0.002724  0.001485  0.810059  0.002621  0.166138  0.004887  0.015945   \n",
              "47   0.324707  0.149536  0.205688  0.002277  0.181152  0.005814  0.498535   \n",
              "60   0.768066  0.563477  0.038025  0.502930  0.168335  0.009483  0.831055   \n",
              "73   0.004520  0.015442  1.004883  0.007072  0.157837  0.008255  0.011215   \n",
              "86   0.035522  0.321289  0.043304  0.507812  0.553223  0.003963  0.624512   \n",
              "99   0.000292  0.126343  0.445068  0.001740  0.105347  0.002327  0.079285   \n",
              "112  0.005196  0.330078  0.055511  0.001949  0.515625  0.000360  0.362793   \n",
              "125  0.009674  0.009193  0.812500  0.001989       NaN  0.001398  0.008179   \n",
              "\n",
              "     ...  D_136  D_137  D_138     D_139     D_140     D_141     D_142  \\\n",
              "8    ...    NaN    NaN    NaN  0.005913  0.001250  0.006542       NaN   \n",
              "21   ...    NaN    NaN    NaN  0.004345  0.000866  0.009117       NaN   \n",
              "34   ...    NaN    NaN    NaN  1.000977  0.008896  0.895996  0.150146   \n",
              "47   ...    NaN    NaN    NaN  1.007812  0.003754  0.919922  0.255371   \n",
              "60   ...    NaN    NaN    NaN  0.006622  0.001140  0.009529       NaN   \n",
              "73   ...    NaN    NaN    NaN  0.005520  0.000525  0.007641       NaN   \n",
              "86   ...    NaN    NaN    NaN  1.000977  0.005283  0.878906  0.128174   \n",
              "99   ...    NaN    NaN    NaN  0.009155  0.001059  0.003994       NaN   \n",
              "112  ...    NaN    NaN    NaN  0.009781  0.004021  0.002819       NaN   \n",
              "125  ...    NaN    NaN    NaN  0.003918  0.002836  0.006107       NaN   \n",
              "\n",
              "        D_143     D_144     D_145  \n",
              "8    0.009163  0.003691  0.003220  \n",
              "21   0.002197  0.000247  0.007778  \n",
              "34   1.009766  0.457764  0.092041  \n",
              "47   1.007812  0.500977  0.182983  \n",
              "60   0.009407  0.001557  0.000525  \n",
              "73   0.007229  0.007462  0.005432  \n",
              "86   1.000000  0.020203  0.183350  \n",
              "99   0.002428  0.001195  0.009186  \n",
              "112  0.007679  0.006760  0.004795  \n",
              "125  0.003353  0.007519  0.006737  \n",
              "\n",
              "[10 rows x 190 columns]"
            ],
            "text/html": [
              "\n",
              "  <div id=\"df-e2b1a513-dfa6-4967-bd3a-135e38c89678\" class=\"colab-df-container\">\n",
              "    <div>\n",
              "<style scoped>\n",
              "    .dataframe tbody tr th:only-of-type {\n",
              "        vertical-align: middle;\n",
              "    }\n",
              "\n",
              "    .dataframe tbody tr th {\n",
              "        vertical-align: top;\n",
              "    }\n",
              "\n",
              "    .dataframe thead th {\n",
              "        text-align: right;\n",
              "    }\n",
              "</style>\n",
              "<table border=\"1\" class=\"dataframe\">\n",
              "  <thead>\n",
              "    <tr style=\"text-align: right;\">\n",
              "      <th></th>\n",
              "      <th>customer_ID</th>\n",
              "      <th>S_2</th>\n",
              "      <th>P_2</th>\n",
              "      <th>D_39</th>\n",
              "      <th>B_1</th>\n",
              "      <th>B_2</th>\n",
              "      <th>R_1</th>\n",
              "      <th>S_3</th>\n",
              "      <th>D_41</th>\n",
              "      <th>B_3</th>\n",
              "      <th>...</th>\n",
              "      <th>D_136</th>\n",
              "      <th>D_137</th>\n",
              "      <th>D_138</th>\n",
              "      <th>D_139</th>\n",
              "      <th>D_140</th>\n",
              "      <th>D_141</th>\n",
              "      <th>D_142</th>\n",
              "      <th>D_143</th>\n",
              "      <th>D_144</th>\n",
              "      <th>D_145</th>\n",
              "    </tr>\n",
              "  </thead>\n",
              "  <tbody>\n",
              "    <tr>\n",
              "      <th>8</th>\n",
              "      <td>00000469ba478561f23a92a868bd366de6f6527a684c9a...</td>\n",
              "      <td>2019-10-12</td>\n",
              "      <td>0.568848</td>\n",
              "      <td>0.121399</td>\n",
              "      <td>0.010780</td>\n",
              "      <td>1.009766</td>\n",
              "      <td>0.006924</td>\n",
              "      <td>0.149414</td>\n",
              "      <td>0.000396</td>\n",
              "      <td>0.003576</td>\n",
              "      <td>...</td>\n",
              "      <td>NaN</td>\n",
              "      <td>NaN</td>\n",
              "      <td>NaN</td>\n",
              "      <td>0.005913</td>\n",
              "      <td>0.001250</td>\n",
              "      <td>0.006542</td>\n",
              "      <td>NaN</td>\n",
              "      <td>0.009163</td>\n",
              "      <td>0.003691</td>\n",
              "      <td>0.003220</td>\n",
              "    </tr>\n",
              "    <tr>\n",
              "      <th>21</th>\n",
              "      <td>00001bf2e77ff879fab36aa4fac689b9ba411dae63ae39...</td>\n",
              "      <td>2019-04-15</td>\n",
              "      <td>0.841309</td>\n",
              "      <td>0.126465</td>\n",
              "      <td>0.016556</td>\n",
              "      <td>1.008789</td>\n",
              "      <td>0.009712</td>\n",
              "      <td>0.112183</td>\n",
              "      <td>0.006191</td>\n",
              "      <td>0.011383</td>\n",
              "      <td>...</td>\n",
              "      <td>NaN</td>\n",
              "      <td>NaN</td>\n",
              "      <td>NaN</td>\n",
              "      <td>0.004345</td>\n",
              "      <td>0.000866</td>\n",
              "      <td>0.009117</td>\n",
              "      <td>NaN</td>\n",
              "      <td>0.002197</td>\n",
              "      <td>0.000247</td>\n",
              "      <td>0.007778</td>\n",
              "    </tr>\n",
              "    <tr>\n",
              "      <th>34</th>\n",
              "      <td>0000210045da4f81e5f122c6bde5c2a617d03eef67f82c...</td>\n",
              "      <td>2019-10-16</td>\n",
              "      <td>0.697754</td>\n",
              "      <td>0.002724</td>\n",
              "      <td>0.001485</td>\n",
              "      <td>0.810059</td>\n",
              "      <td>0.002621</td>\n",
              "      <td>0.166138</td>\n",
              "      <td>0.004887</td>\n",
              "      <td>0.015945</td>\n",
              "      <td>...</td>\n",
              "      <td>NaN</td>\n",
              "      <td>NaN</td>\n",
              "      <td>NaN</td>\n",
              "      <td>1.000977</td>\n",
              "      <td>0.008896</td>\n",
              "      <td>0.895996</td>\n",
              "      <td>0.150146</td>\n",
              "      <td>1.009766</td>\n",
              "      <td>0.457764</td>\n",
              "      <td>0.092041</td>\n",
              "    </tr>\n",
              "    <tr>\n",
              "      <th>47</th>\n",
              "      <td>00003b41e58ede33b8daf61ab56d9952f17c9ad1c3976c...</td>\n",
              "      <td>2019-04-22</td>\n",
              "      <td>0.513184</td>\n",
              "      <td>0.324707</td>\n",
              "      <td>0.149536</td>\n",
              "      <td>0.205688</td>\n",
              "      <td>0.002277</td>\n",
              "      <td>0.181152</td>\n",
              "      <td>0.005814</td>\n",
              "      <td>0.498535</td>\n",
              "      <td>...</td>\n",
              "      <td>NaN</td>\n",
              "      <td>NaN</td>\n",
              "      <td>NaN</td>\n",
              "      <td>1.007812</td>\n",
              "      <td>0.003754</td>\n",
              "      <td>0.919922</td>\n",
              "      <td>0.255371</td>\n",
              "      <td>1.007812</td>\n",
              "      <td>0.500977</td>\n",
              "      <td>0.182983</td>\n",
              "    </tr>\n",
              "    <tr>\n",
              "      <th>60</th>\n",
              "      <td>00004b22eaeeeb0ec976890c1d9bfc14fd9427e98c4ee9...</td>\n",
              "      <td>2019-10-22</td>\n",
              "      <td>0.254395</td>\n",
              "      <td>0.768066</td>\n",
              "      <td>0.563477</td>\n",
              "      <td>0.038025</td>\n",
              "      <td>0.502930</td>\n",
              "      <td>0.168335</td>\n",
              "      <td>0.009483</td>\n",
              "      <td>0.831055</td>\n",
              "      <td>...</td>\n",
              "      <td>NaN</td>\n",
              "      <td>NaN</td>\n",
              "      <td>NaN</td>\n",
              "      <td>0.006622</td>\n",
              "      <td>0.001140</td>\n",
              "      <td>0.009529</td>\n",
              "      <td>NaN</td>\n",
              "      <td>0.009407</td>\n",
              "      <td>0.001557</td>\n",
              "      <td>0.000525</td>\n",
              "    </tr>\n",
              "    <tr>\n",
              "      <th>73</th>\n",
              "      <td>00004ffe6e01e1b688170bbd108da8351bc4c316eacfef...</td>\n",
              "      <td>2019-10-04</td>\n",
              "      <td>1.003906</td>\n",
              "      <td>0.004520</td>\n",
              "      <td>0.015442</td>\n",
              "      <td>1.004883</td>\n",
              "      <td>0.007072</td>\n",
              "      <td>0.157837</td>\n",
              "      <td>0.008255</td>\n",
              "      <td>0.011215</td>\n",
              "      <td>...</td>\n",
              "      <td>NaN</td>\n",
              "      <td>NaN</td>\n",
              "      <td>NaN</td>\n",
              "      <td>0.005520</td>\n",
              "      <td>0.000525</td>\n",
              "      <td>0.007641</td>\n",
              "      <td>NaN</td>\n",
              "      <td>0.007229</td>\n",
              "      <td>0.007462</td>\n",
              "      <td>0.005432</td>\n",
              "    </tr>\n",
              "    <tr>\n",
              "      <th>86</th>\n",
              "      <td>00007cfcce97abfa0b4fa0647986157281d01d3ab90de9...</td>\n",
              "      <td>2019-04-27</td>\n",
              "      <td>0.351318</td>\n",
              "      <td>0.035522</td>\n",
              "      <td>0.321289</td>\n",
              "      <td>0.043304</td>\n",
              "      <td>0.507812</td>\n",
              "      <td>0.553223</td>\n",
              "      <td>0.003963</td>\n",
              "      <td>0.624512</td>\n",
              "      <td>...</td>\n",
              "      <td>NaN</td>\n",
              "      <td>NaN</td>\n",
              "      <td>NaN</td>\n",
              "      <td>1.000977</td>\n",
              "      <td>0.005283</td>\n",
              "      <td>0.878906</td>\n",
              "      <td>0.128174</td>\n",
              "      <td>1.000000</td>\n",
              "      <td>0.020203</td>\n",
              "      <td>0.183350</td>\n",
              "    </tr>\n",
              "    <tr>\n",
              "      <th>99</th>\n",
              "      <td>000089cc2a30dad8e6ba39126f9d86df6088c9f975093a...</td>\n",
              "      <td>2019-04-25</td>\n",
              "      <td>0.307129</td>\n",
              "      <td>0.000292</td>\n",
              "      <td>0.126343</td>\n",
              "      <td>0.445068</td>\n",
              "      <td>0.001740</td>\n",
              "      <td>0.105347</td>\n",
              "      <td>0.002327</td>\n",
              "      <td>0.079285</td>\n",
              "      <td>...</td>\n",
              "      <td>NaN</td>\n",
              "      <td>NaN</td>\n",
              "      <td>NaN</td>\n",
              "      <td>0.009155</td>\n",
              "      <td>0.001059</td>\n",
              "      <td>0.003994</td>\n",
              "      <td>NaN</td>\n",
              "      <td>0.002428</td>\n",
              "      <td>0.001195</td>\n",
              "      <td>0.009186</td>\n",
              "    </tr>\n",
              "    <tr>\n",
              "      <th>112</th>\n",
              "      <td>00008f50a1dd76fa211ba36a2b0d5a1b201e4134a5fd53...</td>\n",
              "      <td>2019-10-24</td>\n",
              "      <td>0.332031</td>\n",
              "      <td>0.005196</td>\n",
              "      <td>0.330078</td>\n",
              "      <td>0.055511</td>\n",
              "      <td>0.001949</td>\n",
              "      <td>0.515625</td>\n",
              "      <td>0.000360</td>\n",
              "      <td>0.362793</td>\n",
              "      <td>...</td>\n",
              "      <td>NaN</td>\n",
              "      <td>NaN</td>\n",
              "      <td>NaN</td>\n",
              "      <td>0.009781</td>\n",
              "      <td>0.004021</td>\n",
              "      <td>0.002819</td>\n",
              "      <td>NaN</td>\n",
              "      <td>0.007679</td>\n",
              "      <td>0.006760</td>\n",
              "      <td>0.004795</td>\n",
              "    </tr>\n",
              "    <tr>\n",
              "      <th>125</th>\n",
              "      <td>0000b48a4f27dc1d61e78d081678e811620300b88eb3ab...</td>\n",
              "      <td>2019-10-09</td>\n",
              "      <td>0.949707</td>\n",
              "      <td>0.009674</td>\n",
              "      <td>0.009193</td>\n",
              "      <td>0.812500</td>\n",
              "      <td>0.001989</td>\n",
              "      <td>NaN</td>\n",
              "      <td>0.001398</td>\n",
              "      <td>0.008179</td>\n",
              "      <td>...</td>\n",
              "      <td>NaN</td>\n",
              "      <td>NaN</td>\n",
              "      <td>NaN</td>\n",
              "      <td>0.003918</td>\n",
              "      <td>0.002836</td>\n",
              "      <td>0.006107</td>\n",
              "      <td>NaN</td>\n",
              "      <td>0.003353</td>\n",
              "      <td>0.007519</td>\n",
              "      <td>0.006737</td>\n",
              "    </tr>\n",
              "  </tbody>\n",
              "</table>\n",
              "<p>10 rows × 190 columns</p>\n",
              "</div>\n",
              "    <div class=\"colab-df-buttons\">\n",
              "\n",
              "  <div class=\"colab-df-container\">\n",
              "    <button class=\"colab-df-convert\" onclick=\"convertToInteractive('df-e2b1a513-dfa6-4967-bd3a-135e38c89678')\"\n",
              "            title=\"Convert this dataframe to an interactive table.\"\n",
              "            style=\"display:none;\">\n",
              "\n",
              "  <svg xmlns=\"http://www.w3.org/2000/svg\" height=\"24px\" viewBox=\"0 -960 960 960\">\n",
              "    <path d=\"M120-120v-720h720v720H120Zm60-500h600v-160H180v160Zm220 220h160v-160H400v160Zm0 220h160v-160H400v160ZM180-400h160v-160H180v160Zm440 0h160v-160H620v160ZM180-180h160v-160H180v160Zm440 0h160v-160H620v160Z\"/>\n",
              "  </svg>\n",
              "    </button>\n",
              "\n",
              "  <style>\n",
              "    .colab-df-container {\n",
              "      display:flex;\n",
              "      gap: 12px;\n",
              "    }\n",
              "\n",
              "    .colab-df-convert {\n",
              "      background-color: #E8F0FE;\n",
              "      border: none;\n",
              "      border-radius: 50%;\n",
              "      cursor: pointer;\n",
              "      display: none;\n",
              "      fill: #1967D2;\n",
              "      height: 32px;\n",
              "      padding: 0 0 0 0;\n",
              "      width: 32px;\n",
              "    }\n",
              "\n",
              "    .colab-df-convert:hover {\n",
              "      background-color: #E2EBFA;\n",
              "      box-shadow: 0px 1px 2px rgba(60, 64, 67, 0.3), 0px 1px 3px 1px rgba(60, 64, 67, 0.15);\n",
              "      fill: #174EA6;\n",
              "    }\n",
              "\n",
              "    .colab-df-buttons div {\n",
              "      margin-bottom: 4px;\n",
              "    }\n",
              "\n",
              "    [theme=dark] .colab-df-convert {\n",
              "      background-color: #3B4455;\n",
              "      fill: #D2E3FC;\n",
              "    }\n",
              "\n",
              "    [theme=dark] .colab-df-convert:hover {\n",
              "      background-color: #434B5C;\n",
              "      box-shadow: 0px 1px 3px 1px rgba(0, 0, 0, 0.15);\n",
              "      filter: drop-shadow(0px 1px 2px rgba(0, 0, 0, 0.3));\n",
              "      fill: #FFFFFF;\n",
              "    }\n",
              "  </style>\n",
              "\n",
              "    <script>\n",
              "      const buttonEl =\n",
              "        document.querySelector('#df-e2b1a513-dfa6-4967-bd3a-135e38c89678 button.colab-df-convert');\n",
              "      buttonEl.style.display =\n",
              "        google.colab.kernel.accessAllowed ? 'block' : 'none';\n",
              "\n",
              "      async function convertToInteractive(key) {\n",
              "        const element = document.querySelector('#df-e2b1a513-dfa6-4967-bd3a-135e38c89678');\n",
              "        const dataTable =\n",
              "          await google.colab.kernel.invokeFunction('convertToInteractive',\n",
              "                                                    [key], {});\n",
              "        if (!dataTable) return;\n",
              "\n",
              "        const docLinkHtml = 'Like what you see? Visit the ' +\n",
              "          '<a target=\"_blank\" href=https://colab.research.google.com/notebooks/data_table.ipynb>data table notebook</a>'\n",
              "          + ' to learn more about interactive tables.';\n",
              "        element.innerHTML = '';\n",
              "        dataTable['output_type'] = 'display_data';\n",
              "        await google.colab.output.renderOutput(dataTable, element);\n",
              "        const docLink = document.createElement('div');\n",
              "        docLink.innerHTML = docLinkHtml;\n",
              "        element.appendChild(docLink);\n",
              "      }\n",
              "    </script>\n",
              "  </div>\n",
              "\n",
              "\n",
              "<div id=\"df-dc3c75a5-8f2d-4e64-99de-26a0cd4679bd\">\n",
              "  <button class=\"colab-df-quickchart\" onclick=\"quickchart('df-dc3c75a5-8f2d-4e64-99de-26a0cd4679bd')\"\n",
              "            title=\"Suggest charts\"\n",
              "            style=\"display:none;\">\n",
              "\n",
              "<svg xmlns=\"http://www.w3.org/2000/svg\" height=\"24px\"viewBox=\"0 0 24 24\"\n",
              "     width=\"24px\">\n",
              "    <g>\n",
              "        <path d=\"M19 3H5c-1.1 0-2 .9-2 2v14c0 1.1.9 2 2 2h14c1.1 0 2-.9 2-2V5c0-1.1-.9-2-2-2zM9 17H7v-7h2v7zm4 0h-2V7h2v10zm4 0h-2v-4h2v4z\"/>\n",
              "    </g>\n",
              "</svg>\n",
              "  </button>\n",
              "\n",
              "<style>\n",
              "  .colab-df-quickchart {\n",
              "      --bg-color: #E8F0FE;\n",
              "      --fill-color: #1967D2;\n",
              "      --hover-bg-color: #E2EBFA;\n",
              "      --hover-fill-color: #174EA6;\n",
              "      --disabled-fill-color: #AAA;\n",
              "      --disabled-bg-color: #DDD;\n",
              "  }\n",
              "\n",
              "  [theme=dark] .colab-df-quickchart {\n",
              "      --bg-color: #3B4455;\n",
              "      --fill-color: #D2E3FC;\n",
              "      --hover-bg-color: #434B5C;\n",
              "      --hover-fill-color: #FFFFFF;\n",
              "      --disabled-bg-color: #3B4455;\n",
              "      --disabled-fill-color: #666;\n",
              "  }\n",
              "\n",
              "  .colab-df-quickchart {\n",
              "    background-color: var(--bg-color);\n",
              "    border: none;\n",
              "    border-radius: 50%;\n",
              "    cursor: pointer;\n",
              "    display: none;\n",
              "    fill: var(--fill-color);\n",
              "    height: 32px;\n",
              "    padding: 0;\n",
              "    width: 32px;\n",
              "  }\n",
              "\n",
              "  .colab-df-quickchart:hover {\n",
              "    background-color: var(--hover-bg-color);\n",
              "    box-shadow: 0 1px 2px rgba(60, 64, 67, 0.3), 0 1px 3px 1px rgba(60, 64, 67, 0.15);\n",
              "    fill: var(--button-hover-fill-color);\n",
              "  }\n",
              "\n",
              "  .colab-df-quickchart-complete:disabled,\n",
              "  .colab-df-quickchart-complete:disabled:hover {\n",
              "    background-color: var(--disabled-bg-color);\n",
              "    fill: var(--disabled-fill-color);\n",
              "    box-shadow: none;\n",
              "  }\n",
              "\n",
              "  .colab-df-spinner {\n",
              "    border: 2px solid var(--fill-color);\n",
              "    border-color: transparent;\n",
              "    border-bottom-color: var(--fill-color);\n",
              "    animation:\n",
              "      spin 1s steps(1) infinite;\n",
              "  }\n",
              "\n",
              "  @keyframes spin {\n",
              "    0% {\n",
              "      border-color: transparent;\n",
              "      border-bottom-color: var(--fill-color);\n",
              "      border-left-color: var(--fill-color);\n",
              "    }\n",
              "    20% {\n",
              "      border-color: transparent;\n",
              "      border-left-color: var(--fill-color);\n",
              "      border-top-color: var(--fill-color);\n",
              "    }\n",
              "    30% {\n",
              "      border-color: transparent;\n",
              "      border-left-color: var(--fill-color);\n",
              "      border-top-color: var(--fill-color);\n",
              "      border-right-color: var(--fill-color);\n",
              "    }\n",
              "    40% {\n",
              "      border-color: transparent;\n",
              "      border-right-color: var(--fill-color);\n",
              "      border-top-color: var(--fill-color);\n",
              "    }\n",
              "    60% {\n",
              "      border-color: transparent;\n",
              "      border-right-color: var(--fill-color);\n",
              "    }\n",
              "    80% {\n",
              "      border-color: transparent;\n",
              "      border-right-color: var(--fill-color);\n",
              "      border-bottom-color: var(--fill-color);\n",
              "    }\n",
              "    90% {\n",
              "      border-color: transparent;\n",
              "      border-bottom-color: var(--fill-color);\n",
              "    }\n",
              "  }\n",
              "</style>\n",
              "\n",
              "  <script>\n",
              "    async function quickchart(key) {\n",
              "      const quickchartButtonEl =\n",
              "        document.querySelector('#' + key + ' button');\n",
              "      quickchartButtonEl.disabled = true;  // To prevent multiple clicks.\n",
              "      quickchartButtonEl.classList.add('colab-df-spinner');\n",
              "      try {\n",
              "        const charts = await google.colab.kernel.invokeFunction(\n",
              "            'suggestCharts', [key], {});\n",
              "      } catch (error) {\n",
              "        console.error('Error during call to suggestCharts:', error);\n",
              "      }\n",
              "      quickchartButtonEl.classList.remove('colab-df-spinner');\n",
              "      quickchartButtonEl.classList.add('colab-df-quickchart-complete');\n",
              "    }\n",
              "    (() => {\n",
              "      let quickchartButtonEl =\n",
              "        document.querySelector('#df-dc3c75a5-8f2d-4e64-99de-26a0cd4679bd button');\n",
              "      quickchartButtonEl.style.display =\n",
              "        google.colab.kernel.accessAllowed ? 'block' : 'none';\n",
              "    })();\n",
              "  </script>\n",
              "</div>\n",
              "\n",
              "    </div>\n",
              "  </div>\n"
            ],
            "application/vnd.google.colaboratory.intrinsic+json": {
              "type": "dataframe",
              "variable_name": "test_df"
            }
          },
          "metadata": {},
          "execution_count": 33
        }
      ],
      "source": [
        "test_df.head(10)"
      ]
    },
    {
      "cell_type": "code",
      "execution_count": 34,
      "metadata": {
        "colab": {
          "base_uri": "https://localhost:8080/"
        },
        "id": "SPNZXNqBVA9s",
        "outputId": "c2bd8677-46b4-4fa3-feaa-fe25ec609acc"
      },
      "outputs": [
        {
          "output_type": "stream",
          "name": "stdout",
          "text": [
            "B_30 LabelEncoding 완료\n",
            "B_38 LabelEncoding 완료\n",
            "D_114 LabelEncoding 완료\n",
            "D_116 LabelEncoding 완료\n",
            "D_117 LabelEncoding 완료\n",
            "D_120 LabelEncoding 완료\n",
            "D_126 LabelEncoding 완료\n",
            "D_63 LabelEncoding 완료\n",
            "D_64 LabelEncoding 완료\n",
            "D_66 LabelEncoding 완료\n",
            "D_68 LabelEncoding 완료\n",
            "P_2 결측치 없음\n",
            "D_39 결측치 없음\n",
            "B_1 결측치 없음\n",
            "B_2 결측치 없음\n",
            "R_1 결측치 없음\n",
            "S_3 결측치 없음\n",
            "D_41 결측치 없음\n",
            "B_3 결측치 없음\n",
            "D_42 결측치 없음\n",
            "D_43 결측치 없음\n",
            "D_44 결측치 없음\n",
            "B_4 결측치 없음\n",
            "D_45 결측치 없음\n",
            "B_5 결측치 없음\n",
            "R_2 결측치 없음\n",
            "D_46 결측치 없음\n",
            "D_47 결측치 없음\n",
            "D_48 결측치 없음\n",
            "D_49 결측치 없음\n",
            "B_6 결측치 없음\n",
            "B_7 결측치 없음\n",
            "B_8 결측치 없음\n",
            "D_50 결측치 없음\n",
            "D_51 결측치 없음\n",
            "B_9 결측치 없음\n",
            "R_3 결측치 없음\n",
            "D_52 결측치 없음\n",
            "P_3 결측치 없음\n",
            "B_10 결측치 없음\n",
            "D_53 결측치 없음\n",
            "S_5 결측치 없음\n",
            "B_11 결측치 없음\n",
            "S_6 결측치 없음\n",
            "D_54 결측치 없음\n",
            "R_4 결측치 없음\n",
            "S_7 결측치 없음\n",
            "B_12 결측치 없음\n",
            "S_8 결측치 없음\n",
            "D_55 결측치 없음\n",
            "D_56 결측치 없음\n",
            "B_13 결측치 없음\n",
            "R_5 결측치 없음\n",
            "D_58 결측치 없음\n",
            "S_9 결측치 없음\n",
            "B_14 결측치 없음\n",
            "D_59 결측치 없음\n",
            "D_60 결측치 없음\n",
            "D_61 결측치 없음\n",
            "B_15 결측치 없음\n",
            "S_11 결측치 없음\n",
            "D_62 결측치 없음\n",
            "D_65 결측치 없음\n",
            "B_16 결측치 없음\n",
            "B_17 결측치 없음\n",
            "B_18 결측치 없음\n",
            "B_19 결측치 없음\n",
            "B_20 결측치 없음\n",
            "S_12 결측치 없음\n",
            "R_6 결측치 없음\n",
            "S_13 결측치 없음\n",
            "B_21 결측치 없음\n",
            "D_69 결측치 없음\n",
            "B_22 결측치 없음\n",
            "D_70 결측치 없음\n",
            "D_71 결측치 없음\n",
            "D_72 결측치 없음\n",
            "S_15 결측치 없음\n",
            "B_23 결측치 없음\n",
            "D_73 결측치 없음\n",
            "P_4 결측치 없음\n",
            "D_74 결측치 없음\n",
            "D_75 결측치 없음\n",
            "D_76 결측치 없음\n",
            "B_24 결측치 없음\n",
            "R_7 결측치 없음\n",
            "D_77 결측치 없음\n",
            "B_25 결측치 없음\n",
            "B_26 결측치 없음\n",
            "D_78 결측치 없음\n",
            "D_79 결측치 없음\n",
            "R_8 결측치 없음\n",
            "R_9 결측치 없음\n",
            "S_16 결측치 없음\n",
            "D_80 결측치 없음\n",
            "R_10 결측치 없음\n",
            "R_11 결측치 없음\n",
            "B_27 결측치 없음\n",
            "D_81 결측치 없음\n",
            "D_82 결측치 없음\n",
            "S_17 결측치 없음\n",
            "R_12 결측치 없음\n",
            "B_28 결측치 없음\n",
            "R_13 결측치 없음\n",
            "D_83 결측치 없음\n",
            "R_14 결측치 없음\n",
            "R_15 결측치 없음\n",
            "D_84 결측치 없음\n",
            "R_16 결측치 없음\n",
            "B_29 결측치 없음\n",
            "S_18 결측치 없음\n",
            "D_86 결측치 없음\n",
            "D_87 결측치 없음\n",
            "R_17 결측치 없음\n",
            "R_18 결측치 없음\n",
            "D_88 결측치 없음\n",
            "B_31 결측치 없음\n",
            "S_19 결측치 없음\n",
            "R_19 결측치 없음\n",
            "B_32 결측치 없음\n",
            "S_20 결측치 없음\n",
            "R_20 결측치 없음\n",
            "R_21 결측치 없음\n",
            "B_33 결측치 없음\n",
            "D_89 결측치 없음\n",
            "R_22 결측치 없음\n",
            "R_23 결측치 없음\n",
            "D_91 결측치 없음\n",
            "D_92 결측치 없음\n",
            "D_93 결측치 없음\n",
            "D_94 결측치 없음\n",
            "R_24 결측치 없음\n",
            "R_25 결측치 없음\n",
            "D_96 결측치 없음\n",
            "S_22 결측치 없음\n",
            "S_23 결측치 없음\n",
            "S_24 결측치 없음\n",
            "S_25 결측치 없음\n",
            "S_26 결측치 없음\n",
            "D_102 결측치 없음\n",
            "D_103 결측치 없음\n",
            "D_104 결측치 없음\n",
            "D_105 결측치 없음\n",
            "D_106 결측치 없음\n",
            "D_107 결측치 없음\n",
            "B_36 결측치 없음\n",
            "B_37 결측치 없음\n",
            "R_26 결측치 없음\n",
            "R_27 결측치 없음\n",
            "D_108 결측치 없음\n",
            "D_109 결측치 없음\n",
            "D_110 결측치 없음\n",
            "D_111 결측치 없음\n",
            "B_39 결측치 없음\n",
            "D_112 결측치 없음\n",
            "B_40 결측치 없음\n",
            "S_27 결측치 없음\n",
            "D_113 결측치 없음\n",
            "D_115 결측치 없음\n",
            "D_118 결측치 없음\n",
            "D_119 결측치 없음\n",
            "D_121 결측치 없음\n",
            "D_122 결측치 없음\n",
            "D_123 결측치 없음\n",
            "D_124 결측치 없음\n",
            "D_125 결측치 없음\n",
            "D_127 결측치 없음\n",
            "D_128 결측치 없음\n",
            "D_129 결측치 없음\n",
            "B_41 결측치 없음\n",
            "B_42 결측치 없음\n",
            "D_130 결측치 없음\n",
            "D_131 결측치 없음\n",
            "D_132 결측치 없음\n",
            "D_133 결측치 없음\n",
            "R_28 결측치 없음\n",
            "D_134 결측치 없음\n",
            "D_135 결측치 없음\n",
            "D_136 결측치 없음\n",
            "D_137 결측치 없음\n",
            "D_138 결측치 없음\n",
            "D_139 결측치 없음\n",
            "D_140 결측치 없음\n",
            "D_141 결측치 없음\n",
            "D_142 결측치 없음\n",
            "D_143 결측치 없음\n",
            "D_144 결측치 없음\n",
            "D_145 결측치 없음\n",
            "target 결측치 없음\n"
          ]
        }
      ],
      "source": [
        "total_cols = test_df.columns.to_list()\n",
        "cat_columns = ['B_30', 'B_38', 'D_114', 'D_116', 'D_117', 'D_120', 'D_126', 'D_63', 'D_64', 'D_66', 'D_68']\n",
        "num_columns = [col for col in total_cols if col not in cat_columns]\n",
        "\n",
        "# 범주형 데이터 -> LabelEncoding\n",
        "for column in cat_columns:\n",
        "    le = LabelEncoder()\n",
        "    test_df[column] = le.fit_transform(test_df[column])\n",
        "    print(f\"{column} LabelEncoding 완료\")\n",
        "\n",
        "# 수치형 데이터 -> 중앙값\n",
        "for column in num_columns_copy:\n",
        "    if train_df[column].isnull().sum() > 0:\n",
        "        train_df[column].fillna(train_df[column].median(), inplace=True)\n",
        "        print(f\"{column} 결측치 중앙값 대체 완료\")\n",
        "    else:\n",
        "        print(f\"{column} 결측치 없음\")\n",
        "\n",
        "# 합체\n",
        "test_df = pd.concat([test_df[cat_columns], test_df[num_columns]], axis=1)"
      ]
    },
    {
      "cell_type": "code",
      "execution_count": 35,
      "metadata": {
        "id": "85SFlV2ecuwL"
      },
      "outputs": [],
      "source": [
        "# customer_ID 따로 저장\n",
        "customer_ID = test_df['customer_ID']"
      ]
    },
    {
      "cell_type": "code",
      "execution_count": 36,
      "metadata": {
        "id": "pxn1ztWUa-rn"
      },
      "outputs": [],
      "source": [
        "# S_2, customer_ID 컬럼 드랍\n",
        "test_df = test_df.drop(columns=['customer_ID', 'S_2'])"
      ]
    },
    {
      "cell_type": "code",
      "execution_count": 37,
      "metadata": {
        "id": "S3AQOop9XQUF"
      },
      "outputs": [],
      "source": [
        "# CatBoostClassifier 모델로 예측\n",
        "pred = model.predict_proba(test_df)[:, 1]"
      ]
    },
    {
      "cell_type": "code",
      "execution_count": 38,
      "metadata": {
        "id": "KKcyRTjFXQJ7"
      },
      "outputs": [],
      "source": [
        "# customer_ID와 prediction을 submission.csv로 추출\n",
        "submission = pd.DataFrame({'customer_ID': customer_ID, 'prediction': pred})\n",
        "submission.to_csv('submission_catboost1.csv', index=False)"
      ]
    },
    {
      "cell_type": "code",
      "execution_count": null,
      "metadata": {
        "id": "j2qcBy3yo3hn"
      },
      "outputs": [],
      "source": []
    }
  ],
  "metadata": {
    "colab": {
      "machine_shape": "hm",
      "provenance": []
    },
    "kernelspec": {
      "display_name": "Python 3",
      "name": "python3"
    },
    "language_info": {
      "name": "python"
    }
  },
  "nbformat": 4,
  "nbformat_minor": 0
}