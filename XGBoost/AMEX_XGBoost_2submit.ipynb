{
  "cells": [
    {
      "cell_type": "markdown",
      "metadata": {
        "id": "uYCaziYeePUp"
      },
      "source": [
        "# Data Load"
      ]
    },
    {
      "cell_type": "code",
      "execution_count": 1,
      "metadata": {
        "colab": {
          "base_uri": "https://localhost:8080/"
        },
        "id": "lIZx1fKKSREN",
        "outputId": "eb0faa9c-ec44-497d-cd3f-db55a6554ff7"
      },
      "outputs": [
        {
          "output_type": "stream",
          "name": "stdout",
          "text": [
            "Mounted at /content/drive\n"
          ]
        }
      ],
      "source": [
        "from google.colab import drive\n",
        "drive.mount('/content/drive')"
      ]
    },
    {
      "cell_type": "code",
      "execution_count": 19,
      "metadata": {
        "id": "MjbranR5yfOp"
      },
      "outputs": [],
      "source": [
        "import pandas as pd\n",
        "import numpy as np\n",
        "import matplotlib.pyplot as plt\n",
        "import seaborn as sns\n",
        "import warnings\n",
        "warnings.filterwarnings('ignore')\n",
        "\n",
        "from sklearn.preprocessing import LabelEncoder\n",
        "from sklearn.model_selection import train_test_split\n",
        "from xgboost import XGBRegressor\n",
        "from xgboost import XGBClassifier\n",
        "from sklearn.metrics import mean_squared_error, mean_absolute_error, r2_score\n",
        "from sklearn.preprocessing import OneHotEncoder\n",
        "# from sklearn.utils import resample\n",
        "\n",
        "train_df = pd.read_feather(\"/content/drive/MyDrive/data_ftr/train_data.ftr\")\n",
        "# test_df = pd.read_feather(\"\")"
      ]
    },
    {
      "cell_type": "markdown",
      "metadata": {
        "id": "fuBtgLmXVExn"
      },
      "source": [
        "# Data Check"
      ]
    },
    {
      "cell_type": "code",
      "execution_count": 20,
      "metadata": {
        "id": "lZpfoAGA9v44",
        "colab": {
          "base_uri": "https://localhost:8080/"
        },
        "outputId": "c2cba2b3-cc0c-4529-bdca-3a416b8b07a7"
      },
      "outputs": [
        {
          "output_type": "execute_result",
          "data": {
            "text/plain": [
              "(5531451, 191)"
            ]
          },
          "metadata": {},
          "execution_count": 20
        }
      ],
      "source": [
        "train_df.shape"
      ]
    },
    {
      "cell_type": "code",
      "execution_count": 21,
      "metadata": {
        "colab": {
          "base_uri": "https://localhost:8080/"
        },
        "id": "po2H4Hhx2MH9",
        "outputId": "8fb0c4c1-f0f9-4ac5-b37b-365b4e310370"
      },
      "outputs": [
        {
          "output_type": "stream",
          "name": "stdout",
          "text": [
            "<class 'pandas.core.frame.DataFrame'>\n",
            "RangeIndex: 5531451 entries, 0 to 5531450\n",
            "Columns: 191 entries, customer_ID to target\n",
            "dtypes: category(11), datetime64[ns](1), float16(177), int64(1), object(1)\n",
            "memory usage: 2.0+ GB\n"
          ]
        }
      ],
      "source": [
        "train_df.info()"
      ]
    },
    {
      "cell_type": "code",
      "execution_count": 22,
      "metadata": {
        "id": "cgCA-htQOeD9"
      },
      "outputs": [],
      "source": [
        "train_df = train_df.groupby('customer_ID')\n",
        "train_df = train_df.tail(1)"
      ]
    },
    {
      "cell_type": "code",
      "execution_count": 23,
      "metadata": {
        "colab": {
          "base_uri": "https://localhost:8080/"
        },
        "id": "czqcp-xcOqjJ",
        "outputId": "2d314f9c-efb6-45f3-ca55-f740104a4efb"
      },
      "outputs": [
        {
          "output_type": "execute_result",
          "data": {
            "text/plain": [
              "(458913, 191)"
            ]
          },
          "metadata": {},
          "execution_count": 23
        }
      ],
      "source": [
        "train_df.shape"
      ]
    },
    {
      "cell_type": "markdown",
      "metadata": {
        "id": "NQ_qnZhnVExn"
      },
      "source": [
        "## Removing Non-Meaningful Data\n",
        "- customer_id : 고객 식별 번호\n",
        "- S_2 : 날짜\n",
        "\n",
        "> customer_id와 S_2는 신용 데이터를 분석하는 데 있어서 유의미 하지 않은 데이터이므로 제거합니다."
      ]
    },
    {
      "cell_type": "code",
      "execution_count": 24,
      "metadata": {
        "id": "mf86Rjr28Ps8"
      },
      "outputs": [],
      "source": [
        "# Customer_ID, S_2 컬럼 제거 (유의미 하지 않음)\n",
        "train_df = train_df.drop(['customer_ID', 'S_2'], axis=1)"
      ]
    },
    {
      "cell_type": "markdown",
      "metadata": {
        "id": "TxtjNNEGwBeE"
      },
      "source": [
        "# Missing Value"
      ]
    },
    {
      "cell_type": "code",
      "execution_count": 25,
      "metadata": {
        "colab": {
          "base_uri": "https://localhost:8080/"
        },
        "id": "fwK175a28V2u",
        "outputId": "f1ec4456-38e7-4e3a-bf5e-124e7946ec80"
      },
      "outputs": [
        {
          "output_type": "execute_result",
          "data": {
            "text/plain": [
              "P_2         2969\n",
              "D_39           0\n",
              "B_1            0\n",
              "B_2           31\n",
              "R_1            0\n",
              "           ...  \n",
              "D_142     378598\n",
              "D_143       2830\n",
              "D_144          0\n",
              "D_145       2830\n",
              "target         0\n",
              "Length: 189, dtype: int64"
            ]
          },
          "metadata": {},
          "execution_count": 25
        }
      ],
      "source": [
        "# 각 컬럼별 결측치 확인\n",
        "train_df.isnull().sum()"
      ]
    },
    {
      "cell_type": "markdown",
      "metadata": {
        "id": "37UGRc7bVExo"
      },
      "source": [
        "# Libarary Import"
      ]
    },
    {
      "cell_type": "markdown",
      "metadata": {
        "id": "l3ZXdWC1VExo"
      },
      "source": [
        "# Dataset Description"
      ]
    },
    {
      "cell_type": "code",
      "execution_count": 26,
      "metadata": {
        "id": "9oW1Fdvz7Bd9"
      },
      "outputs": [],
      "source": [
        "total_cols = train_df.columns.to_list()\n",
        "\n",
        "# 수치형과 범주형 컬럼 구분\n",
        "cat_columns = ['B_30', 'B_38', 'D_114', 'D_116', 'D_117', 'D_120', 'D_126', 'D_63', 'D_64', 'D_66', 'D_68']\n",
        "# 전체 데이터 - cat_columns\n",
        "num_columns = [col for col in total_cols if col not in cat_columns]"
      ]
    },
    {
      "cell_type": "code",
      "execution_count": 27,
      "metadata": {
        "colab": {
          "base_uri": "https://localhost:8080/"
        },
        "id": "bPZOVss89olc",
        "outputId": "1cbde7ab-7af5-48d5-c996-0ed2a8732288"
      },
      "outputs": [
        {
          "output_type": "stream",
          "name": "stdout",
          "text": [
            "수치형 컬럼: ['P_2', 'D_39', 'B_1', 'B_2', 'R_1', 'S_3', 'D_41', 'B_3', 'D_42', 'D_43', 'D_44', 'B_4', 'D_45', 'B_5', 'R_2', 'D_46', 'D_47', 'D_48', 'D_49', 'B_6', 'B_7', 'B_8', 'D_50', 'D_51', 'B_9', 'R_3', 'D_52', 'P_3', 'B_10', 'D_53', 'S_5', 'B_11', 'S_6', 'D_54', 'R_4', 'S_7', 'B_12', 'S_8', 'D_55', 'D_56', 'B_13', 'R_5', 'D_58', 'S_9', 'B_14', 'D_59', 'D_60', 'D_61', 'B_15', 'S_11', 'D_62', 'D_65', 'B_16', 'B_17', 'B_18', 'B_19', 'B_20', 'S_12', 'R_6', 'S_13', 'B_21', 'D_69', 'B_22', 'D_70', 'D_71', 'D_72', 'S_15', 'B_23', 'D_73', 'P_4', 'D_74', 'D_75', 'D_76', 'B_24', 'R_7', 'D_77', 'B_25', 'B_26', 'D_78', 'D_79', 'R_8', 'R_9', 'S_16', 'D_80', 'R_10', 'R_11', 'B_27', 'D_81', 'D_82', 'S_17', 'R_12', 'B_28', 'R_13', 'D_83', 'R_14', 'R_15', 'D_84', 'R_16', 'B_29', 'S_18', 'D_86', 'D_87', 'R_17', 'R_18', 'D_88', 'B_31', 'S_19', 'R_19', 'B_32', 'S_20', 'R_20', 'R_21', 'B_33', 'D_89', 'R_22', 'R_23', 'D_91', 'D_92', 'D_93', 'D_94', 'R_24', 'R_25', 'D_96', 'S_22', 'S_23', 'S_24', 'S_25', 'S_26', 'D_102', 'D_103', 'D_104', 'D_105', 'D_106', 'D_107', 'B_36', 'B_37', 'R_26', 'R_27', 'D_108', 'D_109', 'D_110', 'D_111', 'B_39', 'D_112', 'B_40', 'S_27', 'D_113', 'D_115', 'D_118', 'D_119', 'D_121', 'D_122', 'D_123', 'D_124', 'D_125', 'D_127', 'D_128', 'D_129', 'B_41', 'B_42', 'D_130', 'D_131', 'D_132', 'D_133', 'R_28', 'D_134', 'D_135', 'D_136', 'D_137', 'D_138', 'D_139', 'D_140', 'D_141', 'D_142', 'D_143', 'D_144', 'D_145', 'target']\n",
            "범주형 컬럼: ['B_30', 'B_38', 'D_114', 'D_116', 'D_117', 'D_120', 'D_126', 'D_63', 'D_64', 'D_66', 'D_68']\n"
          ]
        }
      ],
      "source": [
        "print(f'수치형 컬럼: {num_columns}')\n",
        "print(f'범주형 컬럼: {cat_columns}')"
      ]
    },
    {
      "cell_type": "markdown",
      "metadata": {
        "id": "igesBs3kVExp"
      },
      "source": [
        "## Data Copy"
      ]
    },
    {
      "cell_type": "code",
      "execution_count": 28,
      "metadata": {
        "id": "5Yv_XWjBEOU8"
      },
      "outputs": [],
      "source": [
        "num_columns_copy = num_columns.copy() # 수치형 데이터 복제\n",
        "cat_columns_copy = cat_columns.copy() # 범주형 데이터 복제"
      ]
    },
    {
      "cell_type": "markdown",
      "metadata": {
        "id": "WppDAuPjSaor"
      },
      "source": [
        "# Handling missing values\n",
        "> Replace categorical data with LabelEncoding"
      ]
    },
    {
      "cell_type": "code",
      "execution_count": 29,
      "metadata": {
        "colab": {
          "base_uri": "https://localhost:8080/"
        },
        "id": "xqS2_MQo4BmT",
        "outputId": "6e7e4b46-4df7-439e-df5d-8b61e538ebac"
      },
      "outputs": [
        {
          "output_type": "stream",
          "name": "stdout",
          "text": [
            "B_30 OneHotEncoding 완료\n",
            "B_38 OneHotEncoding 완료\n",
            "D_114 OneHotEncoding 완료\n",
            "D_116 OneHotEncoding 완료\n",
            "D_117 OneHotEncoding 완료\n",
            "D_120 OneHotEncoding 완료\n",
            "D_126 OneHotEncoding 완료\n",
            "D_63 OneHotEncoding 완료\n",
            "D_64 OneHotEncoding 완료\n",
            "D_66 OneHotEncoding 완료\n",
            "D_68 OneHotEncoding 완료\n"
          ]
        }
      ],
      "source": [
        "# 범주형 데이터는 전체 데이터를 one-hot인코딩 대체\n",
        "\n",
        "for column in cat_columns:\n",
        "    ohe = OneHotEncoder()\n",
        "    train_df[column] = ohe.fit_transform(train_df[column].values.reshape(-1, 1)).toarray()\n",
        "    print(f\"{column} OneHotEncoding 완료\")"
      ]
    },
    {
      "cell_type": "code",
      "source": [
        "for column in num_columns_copy:\n",
        "    if train_df[column].isnull().sum() / train_df.shape[0] * 100 < 15:\n",
        "        train_df[column].fillna(train_df[column].median(), inplace=True)\n",
        "        print(f\"{column} 결측치 중앙값 대체 완료\")\n",
        "    else:\n",
        "        print(f\"{column} 결측치 없음\")"
      ],
      "metadata": {
        "colab": {
          "base_uri": "https://localhost:8080/"
        },
        "id": "N81MpmSnW0A9",
        "outputId": "1dd599cf-b483-4d59-d990-ed3d526f4dd8"
      },
      "execution_count": 30,
      "outputs": [
        {
          "output_type": "stream",
          "name": "stdout",
          "text": [
            "P_2 결측치 중앙값 대체 완료\n",
            "D_39 결측치 중앙값 대체 완료\n",
            "B_1 결측치 중앙값 대체 완료\n",
            "B_2 결측치 중앙값 대체 완료\n",
            "R_1 결측치 중앙값 대체 완료\n",
            "S_3 결측치 없음\n",
            "D_41 결측치 중앙값 대체 완료\n",
            "B_3 결측치 중앙값 대체 완료\n",
            "D_42 결측치 없음\n",
            "D_43 결측치 없음\n",
            "D_44 결측치 중앙값 대체 완료\n",
            "B_4 결측치 중앙값 대체 완료\n",
            "D_45 결측치 중앙값 대체 완료\n",
            "B_5 결측치 중앙값 대체 완료\n",
            "R_2 결측치 중앙값 대체 완료\n",
            "D_46 결측치 없음\n",
            "D_47 결측치 중앙값 대체 완료\n",
            "D_48 결측치 중앙값 대체 완료\n",
            "D_49 결측치 없음\n",
            "B_6 결측치 중앙값 대체 완료\n",
            "B_7 결측치 중앙값 대체 완료\n",
            "B_8 결측치 중앙값 대체 완료\n",
            "D_50 결측치 없음\n",
            "D_51 결측치 중앙값 대체 완료\n",
            "B_9 결측치 중앙값 대체 완료\n",
            "R_3 결측치 중앙값 대체 완료\n",
            "D_52 결측치 중앙값 대체 완료\n",
            "P_3 결측치 중앙값 대체 완료\n",
            "B_10 결측치 중앙값 대체 완료\n",
            "D_53 결측치 없음\n",
            "S_5 결측치 중앙값 대체 완료\n",
            "B_11 결측치 중앙값 대체 완료\n",
            "S_6 결측치 중앙값 대체 완료\n",
            "D_54 결측치 중앙값 대체 완료\n",
            "R_4 결측치 중앙값 대체 완료\n",
            "S_7 결측치 없음\n",
            "B_12 결측치 중앙값 대체 완료\n",
            "S_8 결측치 중앙값 대체 완료\n",
            "D_55 결측치 중앙값 대체 완료\n",
            "D_56 결측치 없음\n",
            "B_13 결측치 중앙값 대체 완료\n",
            "R_5 결측치 중앙값 대체 완료\n",
            "D_58 결측치 중앙값 대체 완료\n",
            "S_9 결측치 없음\n",
            "B_14 결측치 중앙값 대체 완료\n",
            "D_59 결측치 중앙값 대체 완료\n",
            "D_60 결측치 중앙값 대체 완료\n",
            "D_61 결측치 중앙값 대체 완료\n",
            "B_15 결측치 중앙값 대체 완료\n",
            "S_11 결측치 중앙값 대체 완료\n",
            "D_62 결측치 중앙값 대체 완료\n",
            "D_65 결측치 중앙값 대체 완료\n",
            "B_16 결측치 중앙값 대체 완료\n",
            "B_17 결측치 없음\n",
            "B_18 결측치 중앙값 대체 완료\n",
            "B_19 결측치 중앙값 대체 완료\n",
            "B_20 결측치 중앙값 대체 완료\n",
            "S_12 결측치 중앙값 대체 완료\n",
            "R_6 결측치 중앙값 대체 완료\n",
            "S_13 결측치 중앙값 대체 완료\n",
            "B_21 결측치 중앙값 대체 완료\n",
            "D_69 결측치 중앙값 대체 완료\n",
            "B_22 결측치 중앙값 대체 완료\n",
            "D_70 결측치 중앙값 대체 완료\n",
            "D_71 결측치 중앙값 대체 완료\n",
            "D_72 결측치 중앙값 대체 완료\n",
            "S_15 결측치 중앙값 대체 완료\n",
            "B_23 결측치 중앙값 대체 완료\n",
            "D_73 결측치 없음\n",
            "P_4 결측치 중앙값 대체 완료\n",
            "D_74 결측치 중앙값 대체 완료\n",
            "D_75 결측치 중앙값 대체 완료\n",
            "D_76 결측치 없음\n",
            "B_24 결측치 중앙값 대체 완료\n",
            "R_7 결측치 중앙값 대체 완료\n",
            "D_77 결측치 없음\n",
            "B_25 결측치 중앙값 대체 완료\n",
            "B_26 결측치 중앙값 대체 완료\n",
            "D_78 결측치 중앙값 대체 완료\n",
            "D_79 결측치 중앙값 대체 완료\n",
            "R_8 결측치 중앙값 대체 완료\n",
            "R_9 결측치 없음\n",
            "S_16 결측치 중앙값 대체 완료\n",
            "D_80 결측치 중앙값 대체 완료\n",
            "R_10 결측치 중앙값 대체 완료\n",
            "R_11 결측치 중앙값 대체 완료\n",
            "B_27 결측치 중앙값 대체 완료\n",
            "D_81 결측치 중앙값 대체 완료\n",
            "D_82 결측치 없음\n",
            "S_17 결측치 중앙값 대체 완료\n",
            "R_12 결측치 중앙값 대체 완료\n",
            "B_28 결측치 중앙값 대체 완료\n",
            "R_13 결측치 중앙값 대체 완료\n",
            "D_83 결측치 중앙값 대체 완료\n",
            "R_14 결측치 중앙값 대체 완료\n",
            "R_15 결측치 중앙값 대체 완료\n",
            "D_84 결측치 중앙값 대체 완료\n",
            "R_16 결측치 중앙값 대체 완료\n",
            "B_29 결측치 없음\n",
            "S_18 결측치 중앙값 대체 완료\n",
            "D_86 결측치 중앙값 대체 완료\n",
            "D_87 결측치 없음\n",
            "R_17 결측치 중앙값 대체 완료\n",
            "R_18 결측치 중앙값 대체 완료\n",
            "D_88 결측치 없음\n",
            "B_31 결측치 중앙값 대체 완료\n",
            "S_19 결측치 중앙값 대체 완료\n",
            "R_19 결측치 중앙값 대체 완료\n",
            "B_32 결측치 중앙값 대체 완료\n",
            "S_20 결측치 중앙값 대체 완료\n",
            "R_20 결측치 중앙값 대체 완료\n",
            "R_21 결측치 중앙값 대체 완료\n",
            "B_33 결측치 중앙값 대체 완료\n",
            "D_89 결측치 중앙값 대체 완료\n",
            "R_22 결측치 중앙값 대체 완료\n",
            "R_23 결측치 중앙값 대체 완료\n",
            "D_91 결측치 중앙값 대체 완료\n",
            "D_92 결측치 중앙값 대체 완료\n",
            "D_93 결측치 중앙값 대체 완료\n",
            "D_94 결측치 중앙값 대체 완료\n",
            "R_24 결측치 중앙값 대체 완료\n",
            "R_25 결측치 중앙값 대체 완료\n",
            "D_96 결측치 중앙값 대체 완료\n",
            "S_22 결측치 중앙값 대체 완료\n",
            "S_23 결측치 중앙값 대체 완료\n",
            "S_24 결측치 중앙값 대체 완료\n",
            "S_25 결측치 중앙값 대체 완료\n",
            "S_26 결측치 중앙값 대체 완료\n",
            "D_102 결측치 중앙값 대체 완료\n",
            "D_103 결측치 중앙값 대체 완료\n",
            "D_104 결측치 중앙값 대체 완료\n",
            "D_105 결측치 없음\n",
            "D_106 결측치 없음\n",
            "D_107 결측치 중앙값 대체 완료\n",
            "B_36 결측치 중앙값 대체 완료\n",
            "B_37 결측치 중앙값 대체 완료\n",
            "R_26 결측치 없음\n",
            "R_27 결측치 중앙값 대체 완료\n",
            "D_108 결측치 없음\n",
            "D_109 결측치 중앙값 대체 완료\n",
            "D_110 결측치 없음\n",
            "D_111 결측치 없음\n",
            "B_39 결측치 없음\n",
            "D_112 결측치 중앙값 대체 완료\n",
            "B_40 결측치 중앙값 대체 완료\n",
            "S_27 결측치 없음\n",
            "D_113 결측치 중앙값 대체 완료\n",
            "D_115 결측치 중앙값 대체 완료\n",
            "D_118 결측치 중앙값 대체 완료\n",
            "D_119 결측치 중앙값 대체 완료\n",
            "D_121 결측치 중앙값 대체 완료\n",
            "D_122 결측치 중앙값 대체 완료\n",
            "D_123 결측치 중앙값 대체 완료\n",
            "D_124 결측치 중앙값 대체 완료\n",
            "D_125 결측치 중앙값 대체 완료\n",
            "D_127 결측치 중앙값 대체 완료\n",
            "D_128 결측치 중앙값 대체 완료\n",
            "D_129 결측치 중앙값 대체 완료\n",
            "B_41 결측치 중앙값 대체 완료\n",
            "B_42 결측치 없음\n",
            "D_130 결측치 중앙값 대체 완료\n",
            "D_131 결측치 중앙값 대체 완료\n",
            "D_132 결측치 없음\n",
            "D_133 결측치 중앙값 대체 완료\n",
            "R_28 결측치 중앙값 대체 완료\n",
            "D_134 결측치 없음\n",
            "D_135 결측치 없음\n",
            "D_136 결측치 없음\n",
            "D_137 결측치 없음\n",
            "D_138 결측치 없음\n",
            "D_139 결측치 중앙값 대체 완료\n",
            "D_140 결측치 중앙값 대체 완료\n",
            "D_141 결측치 중앙값 대체 완료\n",
            "D_142 결측치 없음\n",
            "D_143 결측치 중앙값 대체 완료\n",
            "D_144 결측치 중앙값 대체 완료\n",
            "D_145 결측치 중앙값 대체 완료\n",
            "target 결측치 중앙값 대체 완료\n"
          ]
        }
      ]
    },
    {
      "cell_type": "code",
      "execution_count": 31,
      "metadata": {
        "id": "m8IhY4CJDk90"
      },
      "outputs": [],
      "source": [
        "# train_df를 cat_columns와 num_columns를 합체\n",
        "train_df = pd.concat([train_df[cat_columns_copy], train_df[num_columns_copy]], axis=1)"
      ]
    },
    {
      "cell_type": "code",
      "execution_count": 32,
      "metadata": {
        "colab": {
          "base_uri": "https://localhost:8080/",
          "height": 392
        },
        "id": "vNd_YtRnK9Uk",
        "outputId": "20b26ebb-976c-461e-964a-380350f430c7"
      },
      "outputs": [
        {
          "output_type": "execute_result",
          "data": {
            "text/plain": [
              "     B_30  B_38  D_114  D_116  D_117  D_120  D_126  D_63  D_64  D_66  ...  \\\n",
              "12    1.0   0.0    0.0    1.0    0.0    1.0    0.0   0.0   0.0   0.0  ...   \n",
              "25    1.0   0.0    0.0    1.0    1.0    1.0    0.0   0.0   0.0   0.0  ...   \n",
              "38    1.0   1.0    0.0    1.0    1.0    1.0    0.0   0.0   0.0   0.0  ...   \n",
              "51    1.0   0.0    0.0    1.0    0.0    1.0    0.0   0.0   0.0   0.0  ...   \n",
              "64    1.0   1.0    0.0    1.0    0.0    1.0    0.0   0.0   0.0   1.0  ...   \n",
              "77    1.0   0.0    0.0    1.0    0.0    1.0    0.0   0.0   0.0   0.0  ...   \n",
              "90    1.0   0.0    1.0    1.0    0.0    1.0    1.0   0.0   0.0   0.0  ...   \n",
              "103   1.0   0.0    0.0    1.0    0.0    1.0    0.0   0.0   0.0   0.0  ...   \n",
              "116   0.0   0.0    1.0    1.0    1.0    1.0    0.0   0.0   0.0   1.0  ...   \n",
              "129   1.0   1.0    1.0    1.0    0.0    1.0    0.0   0.0   0.0   0.0  ...   \n",
              "\n",
              "     D_137  D_138     D_139     D_140     D_141    D_142     D_143     D_144  \\\n",
              "12     NaN    NaN  0.007187  0.004234  0.005085      NaN  0.005810  0.002970   \n",
              "25     NaN    NaN  0.002981  0.007481  0.007874      NaN  0.003284  0.003170   \n",
              "38     NaN    NaN  0.007381  0.006622  0.000965      NaN  0.002201  0.000834   \n",
              "51     NaN    NaN  0.002705  0.006184  0.001899      NaN  0.008186  0.005558   \n",
              "64     NaN    NaN  0.002974  0.004162  0.005764      NaN  0.008156  0.006943   \n",
              "77     NaN    NaN  0.009399  0.007835  0.000957      NaN  0.009056  0.006943   \n",
              "90     NaN    NaN  0.006012  0.005222  0.000937      NaN  0.009789  0.003704   \n",
              "103    NaN    NaN  0.002262  0.005219  0.002153      NaN  0.001169  0.003349   \n",
              "116    NaN    NaN  1.000977  0.007061  0.875977  0.18457  1.004883  0.003349   \n",
              "129    NaN    NaN  0.009811  0.002213  0.004070      NaN  0.005428  0.007107   \n",
              "\n",
              "        D_145  target  \n",
              "12   0.008530       0  \n",
              "25   0.008514       0  \n",
              "38   0.003445       0  \n",
              "51   0.002983       0  \n",
              "64   0.000905       0  \n",
              "77   0.001446       0  \n",
              "90   0.006275       0  \n",
              "103  0.000675       0  \n",
              "116  0.734375       1  \n",
              "129  0.006271       1  \n",
              "\n",
              "[10 rows x 189 columns]"
            ],
            "text/html": [
              "\n",
              "  <div id=\"df-92642e9f-2e3f-46c5-9d13-2edcaad27ce2\" class=\"colab-df-container\">\n",
              "    <div>\n",
              "<style scoped>\n",
              "    .dataframe tbody tr th:only-of-type {\n",
              "        vertical-align: middle;\n",
              "    }\n",
              "\n",
              "    .dataframe tbody tr th {\n",
              "        vertical-align: top;\n",
              "    }\n",
              "\n",
              "    .dataframe thead th {\n",
              "        text-align: right;\n",
              "    }\n",
              "</style>\n",
              "<table border=\"1\" class=\"dataframe\">\n",
              "  <thead>\n",
              "    <tr style=\"text-align: right;\">\n",
              "      <th></th>\n",
              "      <th>B_30</th>\n",
              "      <th>B_38</th>\n",
              "      <th>D_114</th>\n",
              "      <th>D_116</th>\n",
              "      <th>D_117</th>\n",
              "      <th>D_120</th>\n",
              "      <th>D_126</th>\n",
              "      <th>D_63</th>\n",
              "      <th>D_64</th>\n",
              "      <th>D_66</th>\n",
              "      <th>...</th>\n",
              "      <th>D_137</th>\n",
              "      <th>D_138</th>\n",
              "      <th>D_139</th>\n",
              "      <th>D_140</th>\n",
              "      <th>D_141</th>\n",
              "      <th>D_142</th>\n",
              "      <th>D_143</th>\n",
              "      <th>D_144</th>\n",
              "      <th>D_145</th>\n",
              "      <th>target</th>\n",
              "    </tr>\n",
              "  </thead>\n",
              "  <tbody>\n",
              "    <tr>\n",
              "      <th>12</th>\n",
              "      <td>1.0</td>\n",
              "      <td>0.0</td>\n",
              "      <td>0.0</td>\n",
              "      <td>1.0</td>\n",
              "      <td>0.0</td>\n",
              "      <td>1.0</td>\n",
              "      <td>0.0</td>\n",
              "      <td>0.0</td>\n",
              "      <td>0.0</td>\n",
              "      <td>0.0</td>\n",
              "      <td>...</td>\n",
              "      <td>NaN</td>\n",
              "      <td>NaN</td>\n",
              "      <td>0.007187</td>\n",
              "      <td>0.004234</td>\n",
              "      <td>0.005085</td>\n",
              "      <td>NaN</td>\n",
              "      <td>0.005810</td>\n",
              "      <td>0.002970</td>\n",
              "      <td>0.008530</td>\n",
              "      <td>0</td>\n",
              "    </tr>\n",
              "    <tr>\n",
              "      <th>25</th>\n",
              "      <td>1.0</td>\n",
              "      <td>0.0</td>\n",
              "      <td>0.0</td>\n",
              "      <td>1.0</td>\n",
              "      <td>1.0</td>\n",
              "      <td>1.0</td>\n",
              "      <td>0.0</td>\n",
              "      <td>0.0</td>\n",
              "      <td>0.0</td>\n",
              "      <td>0.0</td>\n",
              "      <td>...</td>\n",
              "      <td>NaN</td>\n",
              "      <td>NaN</td>\n",
              "      <td>0.002981</td>\n",
              "      <td>0.007481</td>\n",
              "      <td>0.007874</td>\n",
              "      <td>NaN</td>\n",
              "      <td>0.003284</td>\n",
              "      <td>0.003170</td>\n",
              "      <td>0.008514</td>\n",
              "      <td>0</td>\n",
              "    </tr>\n",
              "    <tr>\n",
              "      <th>38</th>\n",
              "      <td>1.0</td>\n",
              "      <td>1.0</td>\n",
              "      <td>0.0</td>\n",
              "      <td>1.0</td>\n",
              "      <td>1.0</td>\n",
              "      <td>1.0</td>\n",
              "      <td>0.0</td>\n",
              "      <td>0.0</td>\n",
              "      <td>0.0</td>\n",
              "      <td>0.0</td>\n",
              "      <td>...</td>\n",
              "      <td>NaN</td>\n",
              "      <td>NaN</td>\n",
              "      <td>0.007381</td>\n",
              "      <td>0.006622</td>\n",
              "      <td>0.000965</td>\n",
              "      <td>NaN</td>\n",
              "      <td>0.002201</td>\n",
              "      <td>0.000834</td>\n",
              "      <td>0.003445</td>\n",
              "      <td>0</td>\n",
              "    </tr>\n",
              "    <tr>\n",
              "      <th>51</th>\n",
              "      <td>1.0</td>\n",
              "      <td>0.0</td>\n",
              "      <td>0.0</td>\n",
              "      <td>1.0</td>\n",
              "      <td>0.0</td>\n",
              "      <td>1.0</td>\n",
              "      <td>0.0</td>\n",
              "      <td>0.0</td>\n",
              "      <td>0.0</td>\n",
              "      <td>0.0</td>\n",
              "      <td>...</td>\n",
              "      <td>NaN</td>\n",
              "      <td>NaN</td>\n",
              "      <td>0.002705</td>\n",
              "      <td>0.006184</td>\n",
              "      <td>0.001899</td>\n",
              "      <td>NaN</td>\n",
              "      <td>0.008186</td>\n",
              "      <td>0.005558</td>\n",
              "      <td>0.002983</td>\n",
              "      <td>0</td>\n",
              "    </tr>\n",
              "    <tr>\n",
              "      <th>64</th>\n",
              "      <td>1.0</td>\n",
              "      <td>1.0</td>\n",
              "      <td>0.0</td>\n",
              "      <td>1.0</td>\n",
              "      <td>0.0</td>\n",
              "      <td>1.0</td>\n",
              "      <td>0.0</td>\n",
              "      <td>0.0</td>\n",
              "      <td>0.0</td>\n",
              "      <td>1.0</td>\n",
              "      <td>...</td>\n",
              "      <td>NaN</td>\n",
              "      <td>NaN</td>\n",
              "      <td>0.002974</td>\n",
              "      <td>0.004162</td>\n",
              "      <td>0.005764</td>\n",
              "      <td>NaN</td>\n",
              "      <td>0.008156</td>\n",
              "      <td>0.006943</td>\n",
              "      <td>0.000905</td>\n",
              "      <td>0</td>\n",
              "    </tr>\n",
              "    <tr>\n",
              "      <th>77</th>\n",
              "      <td>1.0</td>\n",
              "      <td>0.0</td>\n",
              "      <td>0.0</td>\n",
              "      <td>1.0</td>\n",
              "      <td>0.0</td>\n",
              "      <td>1.0</td>\n",
              "      <td>0.0</td>\n",
              "      <td>0.0</td>\n",
              "      <td>0.0</td>\n",
              "      <td>0.0</td>\n",
              "      <td>...</td>\n",
              "      <td>NaN</td>\n",
              "      <td>NaN</td>\n",
              "      <td>0.009399</td>\n",
              "      <td>0.007835</td>\n",
              "      <td>0.000957</td>\n",
              "      <td>NaN</td>\n",
              "      <td>0.009056</td>\n",
              "      <td>0.006943</td>\n",
              "      <td>0.001446</td>\n",
              "      <td>0</td>\n",
              "    </tr>\n",
              "    <tr>\n",
              "      <th>90</th>\n",
              "      <td>1.0</td>\n",
              "      <td>0.0</td>\n",
              "      <td>1.0</td>\n",
              "      <td>1.0</td>\n",
              "      <td>0.0</td>\n",
              "      <td>1.0</td>\n",
              "      <td>1.0</td>\n",
              "      <td>0.0</td>\n",
              "      <td>0.0</td>\n",
              "      <td>0.0</td>\n",
              "      <td>...</td>\n",
              "      <td>NaN</td>\n",
              "      <td>NaN</td>\n",
              "      <td>0.006012</td>\n",
              "      <td>0.005222</td>\n",
              "      <td>0.000937</td>\n",
              "      <td>NaN</td>\n",
              "      <td>0.009789</td>\n",
              "      <td>0.003704</td>\n",
              "      <td>0.006275</td>\n",
              "      <td>0</td>\n",
              "    </tr>\n",
              "    <tr>\n",
              "      <th>103</th>\n",
              "      <td>1.0</td>\n",
              "      <td>0.0</td>\n",
              "      <td>0.0</td>\n",
              "      <td>1.0</td>\n",
              "      <td>0.0</td>\n",
              "      <td>1.0</td>\n",
              "      <td>0.0</td>\n",
              "      <td>0.0</td>\n",
              "      <td>0.0</td>\n",
              "      <td>0.0</td>\n",
              "      <td>...</td>\n",
              "      <td>NaN</td>\n",
              "      <td>NaN</td>\n",
              "      <td>0.002262</td>\n",
              "      <td>0.005219</td>\n",
              "      <td>0.002153</td>\n",
              "      <td>NaN</td>\n",
              "      <td>0.001169</td>\n",
              "      <td>0.003349</td>\n",
              "      <td>0.000675</td>\n",
              "      <td>0</td>\n",
              "    </tr>\n",
              "    <tr>\n",
              "      <th>116</th>\n",
              "      <td>0.0</td>\n",
              "      <td>0.0</td>\n",
              "      <td>1.0</td>\n",
              "      <td>1.0</td>\n",
              "      <td>1.0</td>\n",
              "      <td>1.0</td>\n",
              "      <td>0.0</td>\n",
              "      <td>0.0</td>\n",
              "      <td>0.0</td>\n",
              "      <td>1.0</td>\n",
              "      <td>...</td>\n",
              "      <td>NaN</td>\n",
              "      <td>NaN</td>\n",
              "      <td>1.000977</td>\n",
              "      <td>0.007061</td>\n",
              "      <td>0.875977</td>\n",
              "      <td>0.18457</td>\n",
              "      <td>1.004883</td>\n",
              "      <td>0.003349</td>\n",
              "      <td>0.734375</td>\n",
              "      <td>1</td>\n",
              "    </tr>\n",
              "    <tr>\n",
              "      <th>129</th>\n",
              "      <td>1.0</td>\n",
              "      <td>1.0</td>\n",
              "      <td>1.0</td>\n",
              "      <td>1.0</td>\n",
              "      <td>0.0</td>\n",
              "      <td>1.0</td>\n",
              "      <td>0.0</td>\n",
              "      <td>0.0</td>\n",
              "      <td>0.0</td>\n",
              "      <td>0.0</td>\n",
              "      <td>...</td>\n",
              "      <td>NaN</td>\n",
              "      <td>NaN</td>\n",
              "      <td>0.009811</td>\n",
              "      <td>0.002213</td>\n",
              "      <td>0.004070</td>\n",
              "      <td>NaN</td>\n",
              "      <td>0.005428</td>\n",
              "      <td>0.007107</td>\n",
              "      <td>0.006271</td>\n",
              "      <td>1</td>\n",
              "    </tr>\n",
              "  </tbody>\n",
              "</table>\n",
              "<p>10 rows × 189 columns</p>\n",
              "</div>\n",
              "    <div class=\"colab-df-buttons\">\n",
              "\n",
              "  <div class=\"colab-df-container\">\n",
              "    <button class=\"colab-df-convert\" onclick=\"convertToInteractive('df-92642e9f-2e3f-46c5-9d13-2edcaad27ce2')\"\n",
              "            title=\"Convert this dataframe to an interactive table.\"\n",
              "            style=\"display:none;\">\n",
              "\n",
              "  <svg xmlns=\"http://www.w3.org/2000/svg\" height=\"24px\" viewBox=\"0 -960 960 960\">\n",
              "    <path d=\"M120-120v-720h720v720H120Zm60-500h600v-160H180v160Zm220 220h160v-160H400v160Zm0 220h160v-160H400v160ZM180-400h160v-160H180v160Zm440 0h160v-160H620v160ZM180-180h160v-160H180v160Zm440 0h160v-160H620v160Z\"/>\n",
              "  </svg>\n",
              "    </button>\n",
              "\n",
              "  <style>\n",
              "    .colab-df-container {\n",
              "      display:flex;\n",
              "      gap: 12px;\n",
              "    }\n",
              "\n",
              "    .colab-df-convert {\n",
              "      background-color: #E8F0FE;\n",
              "      border: none;\n",
              "      border-radius: 50%;\n",
              "      cursor: pointer;\n",
              "      display: none;\n",
              "      fill: #1967D2;\n",
              "      height: 32px;\n",
              "      padding: 0 0 0 0;\n",
              "      width: 32px;\n",
              "    }\n",
              "\n",
              "    .colab-df-convert:hover {\n",
              "      background-color: #E2EBFA;\n",
              "      box-shadow: 0px 1px 2px rgba(60, 64, 67, 0.3), 0px 1px 3px 1px rgba(60, 64, 67, 0.15);\n",
              "      fill: #174EA6;\n",
              "    }\n",
              "\n",
              "    .colab-df-buttons div {\n",
              "      margin-bottom: 4px;\n",
              "    }\n",
              "\n",
              "    [theme=dark] .colab-df-convert {\n",
              "      background-color: #3B4455;\n",
              "      fill: #D2E3FC;\n",
              "    }\n",
              "\n",
              "    [theme=dark] .colab-df-convert:hover {\n",
              "      background-color: #434B5C;\n",
              "      box-shadow: 0px 1px 3px 1px rgba(0, 0, 0, 0.15);\n",
              "      filter: drop-shadow(0px 1px 2px rgba(0, 0, 0, 0.3));\n",
              "      fill: #FFFFFF;\n",
              "    }\n",
              "  </style>\n",
              "\n",
              "    <script>\n",
              "      const buttonEl =\n",
              "        document.querySelector('#df-92642e9f-2e3f-46c5-9d13-2edcaad27ce2 button.colab-df-convert');\n",
              "      buttonEl.style.display =\n",
              "        google.colab.kernel.accessAllowed ? 'block' : 'none';\n",
              "\n",
              "      async function convertToInteractive(key) {\n",
              "        const element = document.querySelector('#df-92642e9f-2e3f-46c5-9d13-2edcaad27ce2');\n",
              "        const dataTable =\n",
              "          await google.colab.kernel.invokeFunction('convertToInteractive',\n",
              "                                                    [key], {});\n",
              "        if (!dataTable) return;\n",
              "\n",
              "        const docLinkHtml = 'Like what you see? Visit the ' +\n",
              "          '<a target=\"_blank\" href=https://colab.research.google.com/notebooks/data_table.ipynb>data table notebook</a>'\n",
              "          + ' to learn more about interactive tables.';\n",
              "        element.innerHTML = '';\n",
              "        dataTable['output_type'] = 'display_data';\n",
              "        await google.colab.output.renderOutput(dataTable, element);\n",
              "        const docLink = document.createElement('div');\n",
              "        docLink.innerHTML = docLinkHtml;\n",
              "        element.appendChild(docLink);\n",
              "      }\n",
              "    </script>\n",
              "  </div>\n",
              "\n",
              "\n",
              "<div id=\"df-e527a42d-7932-4e9e-9b2f-0924a8940020\">\n",
              "  <button class=\"colab-df-quickchart\" onclick=\"quickchart('df-e527a42d-7932-4e9e-9b2f-0924a8940020')\"\n",
              "            title=\"Suggest charts\"\n",
              "            style=\"display:none;\">\n",
              "\n",
              "<svg xmlns=\"http://www.w3.org/2000/svg\" height=\"24px\"viewBox=\"0 0 24 24\"\n",
              "     width=\"24px\">\n",
              "    <g>\n",
              "        <path d=\"M19 3H5c-1.1 0-2 .9-2 2v14c0 1.1.9 2 2 2h14c1.1 0 2-.9 2-2V5c0-1.1-.9-2-2-2zM9 17H7v-7h2v7zm4 0h-2V7h2v10zm4 0h-2v-4h2v4z\"/>\n",
              "    </g>\n",
              "</svg>\n",
              "  </button>\n",
              "\n",
              "<style>\n",
              "  .colab-df-quickchart {\n",
              "      --bg-color: #E8F0FE;\n",
              "      --fill-color: #1967D2;\n",
              "      --hover-bg-color: #E2EBFA;\n",
              "      --hover-fill-color: #174EA6;\n",
              "      --disabled-fill-color: #AAA;\n",
              "      --disabled-bg-color: #DDD;\n",
              "  }\n",
              "\n",
              "  [theme=dark] .colab-df-quickchart {\n",
              "      --bg-color: #3B4455;\n",
              "      --fill-color: #D2E3FC;\n",
              "      --hover-bg-color: #434B5C;\n",
              "      --hover-fill-color: #FFFFFF;\n",
              "      --disabled-bg-color: #3B4455;\n",
              "      --disabled-fill-color: #666;\n",
              "  }\n",
              "\n",
              "  .colab-df-quickchart {\n",
              "    background-color: var(--bg-color);\n",
              "    border: none;\n",
              "    border-radius: 50%;\n",
              "    cursor: pointer;\n",
              "    display: none;\n",
              "    fill: var(--fill-color);\n",
              "    height: 32px;\n",
              "    padding: 0;\n",
              "    width: 32px;\n",
              "  }\n",
              "\n",
              "  .colab-df-quickchart:hover {\n",
              "    background-color: var(--hover-bg-color);\n",
              "    box-shadow: 0 1px 2px rgba(60, 64, 67, 0.3), 0 1px 3px 1px rgba(60, 64, 67, 0.15);\n",
              "    fill: var(--button-hover-fill-color);\n",
              "  }\n",
              "\n",
              "  .colab-df-quickchart-complete:disabled,\n",
              "  .colab-df-quickchart-complete:disabled:hover {\n",
              "    background-color: var(--disabled-bg-color);\n",
              "    fill: var(--disabled-fill-color);\n",
              "    box-shadow: none;\n",
              "  }\n",
              "\n",
              "  .colab-df-spinner {\n",
              "    border: 2px solid var(--fill-color);\n",
              "    border-color: transparent;\n",
              "    border-bottom-color: var(--fill-color);\n",
              "    animation:\n",
              "      spin 1s steps(1) infinite;\n",
              "  }\n",
              "\n",
              "  @keyframes spin {\n",
              "    0% {\n",
              "      border-color: transparent;\n",
              "      border-bottom-color: var(--fill-color);\n",
              "      border-left-color: var(--fill-color);\n",
              "    }\n",
              "    20% {\n",
              "      border-color: transparent;\n",
              "      border-left-color: var(--fill-color);\n",
              "      border-top-color: var(--fill-color);\n",
              "    }\n",
              "    30% {\n",
              "      border-color: transparent;\n",
              "      border-left-color: var(--fill-color);\n",
              "      border-top-color: var(--fill-color);\n",
              "      border-right-color: var(--fill-color);\n",
              "    }\n",
              "    40% {\n",
              "      border-color: transparent;\n",
              "      border-right-color: var(--fill-color);\n",
              "      border-top-color: var(--fill-color);\n",
              "    }\n",
              "    60% {\n",
              "      border-color: transparent;\n",
              "      border-right-color: var(--fill-color);\n",
              "    }\n",
              "    80% {\n",
              "      border-color: transparent;\n",
              "      border-right-color: var(--fill-color);\n",
              "      border-bottom-color: var(--fill-color);\n",
              "    }\n",
              "    90% {\n",
              "      border-color: transparent;\n",
              "      border-bottom-color: var(--fill-color);\n",
              "    }\n",
              "  }\n",
              "</style>\n",
              "\n",
              "  <script>\n",
              "    async function quickchart(key) {\n",
              "      const quickchartButtonEl =\n",
              "        document.querySelector('#' + key + ' button');\n",
              "      quickchartButtonEl.disabled = true;  // To prevent multiple clicks.\n",
              "      quickchartButtonEl.classList.add('colab-df-spinner');\n",
              "      try {\n",
              "        const charts = await google.colab.kernel.invokeFunction(\n",
              "            'suggestCharts', [key], {});\n",
              "      } catch (error) {\n",
              "        console.error('Error during call to suggestCharts:', error);\n",
              "      }\n",
              "      quickchartButtonEl.classList.remove('colab-df-spinner');\n",
              "      quickchartButtonEl.classList.add('colab-df-quickchart-complete');\n",
              "    }\n",
              "    (() => {\n",
              "      let quickchartButtonEl =\n",
              "        document.querySelector('#df-e527a42d-7932-4e9e-9b2f-0924a8940020 button');\n",
              "      quickchartButtonEl.style.display =\n",
              "        google.colab.kernel.accessAllowed ? 'block' : 'none';\n",
              "    })();\n",
              "  </script>\n",
              "</div>\n",
              "\n",
              "    </div>\n",
              "  </div>\n"
            ],
            "application/vnd.google.colaboratory.intrinsic+json": {
              "type": "dataframe",
              "variable_name": "train_df"
            }
          },
          "metadata": {},
          "execution_count": 32
        }
      ],
      "source": [
        "train_df.head(10)"
      ]
    },
    {
      "cell_type": "markdown",
      "metadata": {
        "id": "0K12n8fOW7yi"
      },
      "source": [
        "# Model Training"
      ]
    },
    {
      "cell_type": "code",
      "execution_count": 33,
      "metadata": {
        "id": "CSJxIdtwAVcu"
      },
      "outputs": [],
      "source": [
        "X = train_df.drop('target', axis=1)\n",
        "y = train_df['target']\n",
        "\n",
        "# 데이터 분할\n",
        "X_train, X_test, y_train, y_test = train_test_split(X, y, test_size=0.2, random_state=42)"
      ]
    },
    {
      "cell_type": "code",
      "execution_count": 34,
      "metadata": {
        "colab": {
          "base_uri": "https://localhost:8080/"
        },
        "id": "JlO7zB3_LU0r",
        "outputId": "2da2dc22-5464-45c0-dc0e-322d75995893"
      },
      "outputs": [
        {
          "output_type": "execute_result",
          "data": {
            "text/plain": [
              "(367130, 188)"
            ]
          },
          "metadata": {},
          "execution_count": 34
        }
      ],
      "source": [
        "X_train.shape"
      ]
    },
    {
      "cell_type": "code",
      "execution_count": 35,
      "metadata": {
        "colab": {
          "base_uri": "https://localhost:8080/"
        },
        "id": "vIxYuw_FLdJv",
        "outputId": "2902afce-d588-4a40-961f-c0820a73a9b1"
      },
      "outputs": [
        {
          "output_type": "execute_result",
          "data": {
            "text/plain": [
              "(91783, 188)"
            ]
          },
          "metadata": {},
          "execution_count": 35
        }
      ],
      "source": [
        "X_test.shape"
      ]
    },
    {
      "cell_type": "code",
      "execution_count": 36,
      "metadata": {
        "colab": {
          "base_uri": "https://localhost:8080/"
        },
        "id": "NUPb3Gk0LdHq",
        "outputId": "cd73162e-2bae-48e3-e0f7-70602c69f1ea"
      },
      "outputs": [
        {
          "output_type": "execute_result",
          "data": {
            "text/plain": [
              "(367130,)"
            ]
          },
          "metadata": {},
          "execution_count": 36
        }
      ],
      "source": [
        "y_train.shape"
      ]
    },
    {
      "cell_type": "code",
      "execution_count": 37,
      "metadata": {
        "colab": {
          "base_uri": "https://localhost:8080/"
        },
        "id": "dXbfQ-IvLdFE",
        "outputId": "14a72091-722c-4935-e9be-f999ce05d437"
      },
      "outputs": [
        {
          "output_type": "execute_result",
          "data": {
            "text/plain": [
              "(91783,)"
            ]
          },
          "metadata": {},
          "execution_count": 37
        }
      ],
      "source": [
        "y_test.shape"
      ]
    },
    {
      "cell_type": "markdown",
      "metadata": {
        "id": "MLkWsDPUVExq"
      },
      "source": [
        "## XGBoost"
      ]
    },
    {
      "cell_type": "code",
      "execution_count": 38,
      "metadata": {
        "id": "WrxCKMuCLKOE"
      },
      "outputs": [],
      "source": [
        "# XGBoost 모델 학습 (eval_set을 사용하여 검증 데이터를 모니터링)\n",
        "model = XGBClassifier(n_estimators=200, learning_rate=0.15, subsample=0.5)\n",
        "model.fit(X_train, y_train)\n",
        "\n",
        "# pkl 파일 추출\n",
        "import pickle\n",
        "with open('model.pkl', 'wb') as f:\n",
        "    pickle.dump(model, f)"
      ]
    },
    {
      "cell_type": "code",
      "execution_count": 39,
      "metadata": {
        "colab": {
          "base_uri": "https://localhost:8080/"
        },
        "id": "srJoJ4fIMbkP",
        "outputId": "1ed60870-3159-4bbd-bf77-476accc20f11"
      },
      "outputs": [
        {
          "output_type": "stream",
          "name": "stdout",
          "text": [
            "AMEX Score: 0.7773397985279838\n"
          ]
        }
      ],
      "source": [
        "def amex_metric(y_true: pd.DataFrame, y_pred: pd.DataFrame) -> float:\n",
        "\n",
        "    def top_four_percent_captured(y_true: pd.DataFrame, y_pred: pd.DataFrame) -> float:\n",
        "        df = (pd.concat([y_true, y_pred], axis='columns')\n",
        "              .sort_values('prediction', ascending=False))\n",
        "        df['weight'] = df['target'].apply(lambda x: 20 if x==0 else 1)\n",
        "        four_pct_cutoff = int(0.04 * df['weight'].sum())\n",
        "        df['weight_cumsum'] = df['weight'].cumsum()\n",
        "        df_cutoff = df.loc[df['weight_cumsum'] <= four_pct_cutoff]\n",
        "        return (df_cutoff['target'] == 1).sum() / (df['target'] == 1).sum()\n",
        "\n",
        "    def weighted_gini(y_true: pd.DataFrame, y_pred: pd.DataFrame) -> float:\n",
        "        df = (pd.concat([y_true, y_pred], axis='columns')\n",
        "              .sort_values('prediction', ascending=False))\n",
        "        df['weight'] = df['target'].apply(lambda x: 20 if x==0 else 1)\n",
        "        df['random'] = (df['weight'] / df['weight'].sum()).cumsum()\n",
        "        total_pos = (df['target'] * df['weight']).sum()\n",
        "        df['cum_pos_found'] = (df['target'] * df['weight']).cumsum()\n",
        "        df['lorentz'] = df['cum_pos_found'] / total_pos\n",
        "        df['gini'] = (df['lorentz'] - df['random']) * df['weight']\n",
        "        return df['gini'].sum()\n",
        "\n",
        "    def normalized_weighted_gini(y_true: pd.DataFrame, y_pred: pd.DataFrame) -> float:\n",
        "        y_true_pred = y_true.rename(columns={'target': 'prediction'})\n",
        "        return weighted_gini(y_true, y_pred) / weighted_gini(y_true, y_true_pred)\n",
        "\n",
        "    g = normalized_weighted_gini(y_true, y_pred)\n",
        "    d = top_four_percent_captured(y_true, y_pred)\n",
        "\n",
        "    return 0.5 * (g + d)\n",
        "\n",
        "# 예측 확률 계산\n",
        "pred_prob = model.predict_proba(X_test)[:, 1]\n",
        "y_pred = pd.DataFrame({'prediction': pred_prob}, index=X_test.index)\n",
        "y_true = pd.DataFrame({'target': y_test}, index=X_test.index)\n",
        "\n",
        "# 성능 평가\n",
        "print(\"AMEX Score:\", amex_metric(y_true, y_pred))"
      ]
    },
    {
      "cell_type": "code",
      "execution_count": 40,
      "metadata": {
        "colab": {
          "base_uri": "https://localhost:8080/",
          "height": 990
        },
        "id": "XuhH1cZ1Qxw6",
        "outputId": "2b53f187-5f8e-49be-fae7-46b7f2129244"
      },
      "outputs": [
        {
          "output_type": "execute_result",
          "data": {
            "text/plain": [
              "    customer_ID  prediction\n",
              "0        403008    0.026179\n",
              "1       4224637    0.630562\n",
              "2        444377    0.065996\n",
              "3       5363086    0.000738\n",
              "4        211489    0.001775\n",
              "5       1248043    0.000971\n",
              "6       3497151    0.000657\n",
              "7       5394574    0.075946\n",
              "8       1435073    0.002304\n",
              "9       3650300    0.714861\n",
              "10      3756525    0.999648\n",
              "11      1145833    0.064056\n",
              "12       831240    0.004073\n",
              "13      5229170    0.000752\n",
              "14      4624504    0.001142\n",
              "15      2125375    0.027845\n",
              "16      5190514    0.000249\n",
              "17      4206158    0.000439\n",
              "18      3597201    0.004505\n",
              "19       886498    0.615745\n",
              "20      4025768    0.626608\n",
              "21      4804843    0.793558\n",
              "22      5320331    0.970623\n",
              "23      4292637    0.001899\n",
              "24      4400427    0.999611\n",
              "25       817344    0.093179\n",
              "26      1573396    0.313799\n",
              "27      2529141    0.005234\n",
              "28      1076544    0.002202\n",
              "29      2952786    0.001328"
            ],
            "text/html": [
              "\n",
              "  <div id=\"df-167a5a54-39c8-4dbb-a947-f3e4b356ab9b\" class=\"colab-df-container\">\n",
              "    <div>\n",
              "<style scoped>\n",
              "    .dataframe tbody tr th:only-of-type {\n",
              "        vertical-align: middle;\n",
              "    }\n",
              "\n",
              "    .dataframe tbody tr th {\n",
              "        vertical-align: top;\n",
              "    }\n",
              "\n",
              "    .dataframe thead th {\n",
              "        text-align: right;\n",
              "    }\n",
              "</style>\n",
              "<table border=\"1\" class=\"dataframe\">\n",
              "  <thead>\n",
              "    <tr style=\"text-align: right;\">\n",
              "      <th></th>\n",
              "      <th>customer_ID</th>\n",
              "      <th>prediction</th>\n",
              "    </tr>\n",
              "  </thead>\n",
              "  <tbody>\n",
              "    <tr>\n",
              "      <th>0</th>\n",
              "      <td>403008</td>\n",
              "      <td>0.026179</td>\n",
              "    </tr>\n",
              "    <tr>\n",
              "      <th>1</th>\n",
              "      <td>4224637</td>\n",
              "      <td>0.630562</td>\n",
              "    </tr>\n",
              "    <tr>\n",
              "      <th>2</th>\n",
              "      <td>444377</td>\n",
              "      <td>0.065996</td>\n",
              "    </tr>\n",
              "    <tr>\n",
              "      <th>3</th>\n",
              "      <td>5363086</td>\n",
              "      <td>0.000738</td>\n",
              "    </tr>\n",
              "    <tr>\n",
              "      <th>4</th>\n",
              "      <td>211489</td>\n",
              "      <td>0.001775</td>\n",
              "    </tr>\n",
              "    <tr>\n",
              "      <th>5</th>\n",
              "      <td>1248043</td>\n",
              "      <td>0.000971</td>\n",
              "    </tr>\n",
              "    <tr>\n",
              "      <th>6</th>\n",
              "      <td>3497151</td>\n",
              "      <td>0.000657</td>\n",
              "    </tr>\n",
              "    <tr>\n",
              "      <th>7</th>\n",
              "      <td>5394574</td>\n",
              "      <td>0.075946</td>\n",
              "    </tr>\n",
              "    <tr>\n",
              "      <th>8</th>\n",
              "      <td>1435073</td>\n",
              "      <td>0.002304</td>\n",
              "    </tr>\n",
              "    <tr>\n",
              "      <th>9</th>\n",
              "      <td>3650300</td>\n",
              "      <td>0.714861</td>\n",
              "    </tr>\n",
              "    <tr>\n",
              "      <th>10</th>\n",
              "      <td>3756525</td>\n",
              "      <td>0.999648</td>\n",
              "    </tr>\n",
              "    <tr>\n",
              "      <th>11</th>\n",
              "      <td>1145833</td>\n",
              "      <td>0.064056</td>\n",
              "    </tr>\n",
              "    <tr>\n",
              "      <th>12</th>\n",
              "      <td>831240</td>\n",
              "      <td>0.004073</td>\n",
              "    </tr>\n",
              "    <tr>\n",
              "      <th>13</th>\n",
              "      <td>5229170</td>\n",
              "      <td>0.000752</td>\n",
              "    </tr>\n",
              "    <tr>\n",
              "      <th>14</th>\n",
              "      <td>4624504</td>\n",
              "      <td>0.001142</td>\n",
              "    </tr>\n",
              "    <tr>\n",
              "      <th>15</th>\n",
              "      <td>2125375</td>\n",
              "      <td>0.027845</td>\n",
              "    </tr>\n",
              "    <tr>\n",
              "      <th>16</th>\n",
              "      <td>5190514</td>\n",
              "      <td>0.000249</td>\n",
              "    </tr>\n",
              "    <tr>\n",
              "      <th>17</th>\n",
              "      <td>4206158</td>\n",
              "      <td>0.000439</td>\n",
              "    </tr>\n",
              "    <tr>\n",
              "      <th>18</th>\n",
              "      <td>3597201</td>\n",
              "      <td>0.004505</td>\n",
              "    </tr>\n",
              "    <tr>\n",
              "      <th>19</th>\n",
              "      <td>886498</td>\n",
              "      <td>0.615745</td>\n",
              "    </tr>\n",
              "    <tr>\n",
              "      <th>20</th>\n",
              "      <td>4025768</td>\n",
              "      <td>0.626608</td>\n",
              "    </tr>\n",
              "    <tr>\n",
              "      <th>21</th>\n",
              "      <td>4804843</td>\n",
              "      <td>0.793558</td>\n",
              "    </tr>\n",
              "    <tr>\n",
              "      <th>22</th>\n",
              "      <td>5320331</td>\n",
              "      <td>0.970623</td>\n",
              "    </tr>\n",
              "    <tr>\n",
              "      <th>23</th>\n",
              "      <td>4292637</td>\n",
              "      <td>0.001899</td>\n",
              "    </tr>\n",
              "    <tr>\n",
              "      <th>24</th>\n",
              "      <td>4400427</td>\n",
              "      <td>0.999611</td>\n",
              "    </tr>\n",
              "    <tr>\n",
              "      <th>25</th>\n",
              "      <td>817344</td>\n",
              "      <td>0.093179</td>\n",
              "    </tr>\n",
              "    <tr>\n",
              "      <th>26</th>\n",
              "      <td>1573396</td>\n",
              "      <td>0.313799</td>\n",
              "    </tr>\n",
              "    <tr>\n",
              "      <th>27</th>\n",
              "      <td>2529141</td>\n",
              "      <td>0.005234</td>\n",
              "    </tr>\n",
              "    <tr>\n",
              "      <th>28</th>\n",
              "      <td>1076544</td>\n",
              "      <td>0.002202</td>\n",
              "    </tr>\n",
              "    <tr>\n",
              "      <th>29</th>\n",
              "      <td>2952786</td>\n",
              "      <td>0.001328</td>\n",
              "    </tr>\n",
              "  </tbody>\n",
              "</table>\n",
              "</div>\n",
              "    <div class=\"colab-df-buttons\">\n",
              "\n",
              "  <div class=\"colab-df-container\">\n",
              "    <button class=\"colab-df-convert\" onclick=\"convertToInteractive('df-167a5a54-39c8-4dbb-a947-f3e4b356ab9b')\"\n",
              "            title=\"Convert this dataframe to an interactive table.\"\n",
              "            style=\"display:none;\">\n",
              "\n",
              "  <svg xmlns=\"http://www.w3.org/2000/svg\" height=\"24px\" viewBox=\"0 -960 960 960\">\n",
              "    <path d=\"M120-120v-720h720v720H120Zm60-500h600v-160H180v160Zm220 220h160v-160H400v160Zm0 220h160v-160H400v160ZM180-400h160v-160H180v160Zm440 0h160v-160H620v160ZM180-180h160v-160H180v160Zm440 0h160v-160H620v160Z\"/>\n",
              "  </svg>\n",
              "    </button>\n",
              "\n",
              "  <style>\n",
              "    .colab-df-container {\n",
              "      display:flex;\n",
              "      gap: 12px;\n",
              "    }\n",
              "\n",
              "    .colab-df-convert {\n",
              "      background-color: #E8F0FE;\n",
              "      border: none;\n",
              "      border-radius: 50%;\n",
              "      cursor: pointer;\n",
              "      display: none;\n",
              "      fill: #1967D2;\n",
              "      height: 32px;\n",
              "      padding: 0 0 0 0;\n",
              "      width: 32px;\n",
              "    }\n",
              "\n",
              "    .colab-df-convert:hover {\n",
              "      background-color: #E2EBFA;\n",
              "      box-shadow: 0px 1px 2px rgba(60, 64, 67, 0.3), 0px 1px 3px 1px rgba(60, 64, 67, 0.15);\n",
              "      fill: #174EA6;\n",
              "    }\n",
              "\n",
              "    .colab-df-buttons div {\n",
              "      margin-bottom: 4px;\n",
              "    }\n",
              "\n",
              "    [theme=dark] .colab-df-convert {\n",
              "      background-color: #3B4455;\n",
              "      fill: #D2E3FC;\n",
              "    }\n",
              "\n",
              "    [theme=dark] .colab-df-convert:hover {\n",
              "      background-color: #434B5C;\n",
              "      box-shadow: 0px 1px 3px 1px rgba(0, 0, 0, 0.15);\n",
              "      filter: drop-shadow(0px 1px 2px rgba(0, 0, 0, 0.3));\n",
              "      fill: #FFFFFF;\n",
              "    }\n",
              "  </style>\n",
              "\n",
              "    <script>\n",
              "      const buttonEl =\n",
              "        document.querySelector('#df-167a5a54-39c8-4dbb-a947-f3e4b356ab9b button.colab-df-convert');\n",
              "      buttonEl.style.display =\n",
              "        google.colab.kernel.accessAllowed ? 'block' : 'none';\n",
              "\n",
              "      async function convertToInteractive(key) {\n",
              "        const element = document.querySelector('#df-167a5a54-39c8-4dbb-a947-f3e4b356ab9b');\n",
              "        const dataTable =\n",
              "          await google.colab.kernel.invokeFunction('convertToInteractive',\n",
              "                                                    [key], {});\n",
              "        if (!dataTable) return;\n",
              "\n",
              "        const docLinkHtml = 'Like what you see? Visit the ' +\n",
              "          '<a target=\"_blank\" href=https://colab.research.google.com/notebooks/data_table.ipynb>data table notebook</a>'\n",
              "          + ' to learn more about interactive tables.';\n",
              "        element.innerHTML = '';\n",
              "        dataTable['output_type'] = 'display_data';\n",
              "        await google.colab.output.renderOutput(dataTable, element);\n",
              "        const docLink = document.createElement('div');\n",
              "        docLink.innerHTML = docLinkHtml;\n",
              "        element.appendChild(docLink);\n",
              "      }\n",
              "    </script>\n",
              "  </div>\n",
              "\n",
              "\n",
              "<div id=\"df-5affd6e0-f608-433e-90b7-6a6c0323bf1e\">\n",
              "  <button class=\"colab-df-quickchart\" onclick=\"quickchart('df-5affd6e0-f608-433e-90b7-6a6c0323bf1e')\"\n",
              "            title=\"Suggest charts\"\n",
              "            style=\"display:none;\">\n",
              "\n",
              "<svg xmlns=\"http://www.w3.org/2000/svg\" height=\"24px\"viewBox=\"0 0 24 24\"\n",
              "     width=\"24px\">\n",
              "    <g>\n",
              "        <path d=\"M19 3H5c-1.1 0-2 .9-2 2v14c0 1.1.9 2 2 2h14c1.1 0 2-.9 2-2V5c0-1.1-.9-2-2-2zM9 17H7v-7h2v7zm4 0h-2V7h2v10zm4 0h-2v-4h2v4z\"/>\n",
              "    </g>\n",
              "</svg>\n",
              "  </button>\n",
              "\n",
              "<style>\n",
              "  .colab-df-quickchart {\n",
              "      --bg-color: #E8F0FE;\n",
              "      --fill-color: #1967D2;\n",
              "      --hover-bg-color: #E2EBFA;\n",
              "      --hover-fill-color: #174EA6;\n",
              "      --disabled-fill-color: #AAA;\n",
              "      --disabled-bg-color: #DDD;\n",
              "  }\n",
              "\n",
              "  [theme=dark] .colab-df-quickchart {\n",
              "      --bg-color: #3B4455;\n",
              "      --fill-color: #D2E3FC;\n",
              "      --hover-bg-color: #434B5C;\n",
              "      --hover-fill-color: #FFFFFF;\n",
              "      --disabled-bg-color: #3B4455;\n",
              "      --disabled-fill-color: #666;\n",
              "  }\n",
              "\n",
              "  .colab-df-quickchart {\n",
              "    background-color: var(--bg-color);\n",
              "    border: none;\n",
              "    border-radius: 50%;\n",
              "    cursor: pointer;\n",
              "    display: none;\n",
              "    fill: var(--fill-color);\n",
              "    height: 32px;\n",
              "    padding: 0;\n",
              "    width: 32px;\n",
              "  }\n",
              "\n",
              "  .colab-df-quickchart:hover {\n",
              "    background-color: var(--hover-bg-color);\n",
              "    box-shadow: 0 1px 2px rgba(60, 64, 67, 0.3), 0 1px 3px 1px rgba(60, 64, 67, 0.15);\n",
              "    fill: var(--button-hover-fill-color);\n",
              "  }\n",
              "\n",
              "  .colab-df-quickchart-complete:disabled,\n",
              "  .colab-df-quickchart-complete:disabled:hover {\n",
              "    background-color: var(--disabled-bg-color);\n",
              "    fill: var(--disabled-fill-color);\n",
              "    box-shadow: none;\n",
              "  }\n",
              "\n",
              "  .colab-df-spinner {\n",
              "    border: 2px solid var(--fill-color);\n",
              "    border-color: transparent;\n",
              "    border-bottom-color: var(--fill-color);\n",
              "    animation:\n",
              "      spin 1s steps(1) infinite;\n",
              "  }\n",
              "\n",
              "  @keyframes spin {\n",
              "    0% {\n",
              "      border-color: transparent;\n",
              "      border-bottom-color: var(--fill-color);\n",
              "      border-left-color: var(--fill-color);\n",
              "    }\n",
              "    20% {\n",
              "      border-color: transparent;\n",
              "      border-left-color: var(--fill-color);\n",
              "      border-top-color: var(--fill-color);\n",
              "    }\n",
              "    30% {\n",
              "      border-color: transparent;\n",
              "      border-left-color: var(--fill-color);\n",
              "      border-top-color: var(--fill-color);\n",
              "      border-right-color: var(--fill-color);\n",
              "    }\n",
              "    40% {\n",
              "      border-color: transparent;\n",
              "      border-right-color: var(--fill-color);\n",
              "      border-top-color: var(--fill-color);\n",
              "    }\n",
              "    60% {\n",
              "      border-color: transparent;\n",
              "      border-right-color: var(--fill-color);\n",
              "    }\n",
              "    80% {\n",
              "      border-color: transparent;\n",
              "      border-right-color: var(--fill-color);\n",
              "      border-bottom-color: var(--fill-color);\n",
              "    }\n",
              "    90% {\n",
              "      border-color: transparent;\n",
              "      border-bottom-color: var(--fill-color);\n",
              "    }\n",
              "  }\n",
              "</style>\n",
              "\n",
              "  <script>\n",
              "    async function quickchart(key) {\n",
              "      const quickchartButtonEl =\n",
              "        document.querySelector('#' + key + ' button');\n",
              "      quickchartButtonEl.disabled = true;  // To prevent multiple clicks.\n",
              "      quickchartButtonEl.classList.add('colab-df-spinner');\n",
              "      try {\n",
              "        const charts = await google.colab.kernel.invokeFunction(\n",
              "            'suggestCharts', [key], {});\n",
              "      } catch (error) {\n",
              "        console.error('Error during call to suggestCharts:', error);\n",
              "      }\n",
              "      quickchartButtonEl.classList.remove('colab-df-spinner');\n",
              "      quickchartButtonEl.classList.add('colab-df-quickchart-complete');\n",
              "    }\n",
              "    (() => {\n",
              "      let quickchartButtonEl =\n",
              "        document.querySelector('#df-5affd6e0-f608-433e-90b7-6a6c0323bf1e button');\n",
              "      quickchartButtonEl.style.display =\n",
              "        google.colab.kernel.accessAllowed ? 'block' : 'none';\n",
              "    })();\n",
              "  </script>\n",
              "</div>\n",
              "\n",
              "    </div>\n",
              "  </div>\n"
            ],
            "application/vnd.google.colaboratory.intrinsic+json": {
              "type": "dataframe",
              "variable_name": "submission",
              "summary": "{\n  \"name\": \"submission\",\n  \"rows\": 91783,\n  \"fields\": [\n    {\n      \"column\": \"customer_ID\",\n      \"properties\": {\n        \"dtype\": \"number\",\n        \"std\": 1597637,\n        \"min\": 90,\n        \"max\": 5531450,\n        \"num_unique_values\": 91783,\n        \"samples\": [\n          3870637,\n          1660643,\n          2738702\n        ],\n        \"semantic_type\": \"\",\n        \"description\": \"\"\n      }\n    },\n    {\n      \"column\": \"prediction\",\n      \"properties\": {\n        \"dtype\": \"float32\",\n        \"num_unique_values\": 91533,\n        \"samples\": [\n          0.00036842311965301633,\n          0.9771711826324463,\n          0.001174305914901197\n        ],\n        \"semantic_type\": \"\",\n        \"description\": \"\"\n      }\n    }\n  ]\n}"
            }
          },
          "metadata": {},
          "execution_count": 40
        }
      ],
      "source": [
        "# customer_ID와 prediction을 submission.csv로 추출\n",
        "submission = pd.DataFrame({'customer_ID': X_test.index, 'prediction': y_pred.values.flatten()})\n",
        "submission.head(30)"
      ]
    },
    {
      "cell_type": "code",
      "execution_count": 41,
      "metadata": {
        "colab": {
          "base_uri": "https://localhost:8080/"
        },
        "id": "gm7295E2tp2l",
        "outputId": "e0c2f346-9605-4018-9928-30383f458626"
      },
      "outputs": [
        {
          "output_type": "stream",
          "name": "stdout",
          "text": [
            "Model Performance:\n",
            "MSE: 0.10130416308030898\n",
            "MAE: 0.10130416308030898\n",
            "R^2: 0.4688086798250328\n"
          ]
        }
      ],
      "source": [
        "from sklearn.metrics import mean_squared_error, mean_absolute_error, r2_score\n",
        "\n",
        "# 모델의 성능 리포트를 출력하는 함수\n",
        "def generate_model_report(y_true, y_pred):\n",
        "    # 평가 지표 계산\n",
        "    mse = mean_squared_error(y_true, y_pred)\n",
        "    mae = mean_absolute_error(y_true, y_pred)\n",
        "    r2 = r2_score(y_true, y_pred)\n",
        "\n",
        "    # 결과 출력\n",
        "    print(\"Model Performance:\")\n",
        "    print(f\"MSE: {mse}\")\n",
        "    print(f\"MAE: {mae}\")\n",
        "    print(f\"R^2: {r2}\")\n",
        "\n",
        "# 예측 결과와 실제 타겟 데이터를 준비\n",
        "y_true = y_test\n",
        "y_pred = model.predict(X_test)\n",
        "\n",
        "# 모델의 성능 리포트 출력\n",
        "generate_model_report(y_true, y_pred)"
      ]
    },
    {
      "cell_type": "code",
      "execution_count": 42,
      "metadata": {
        "colab": {
          "base_uri": "https://localhost:8080/"
        },
        "id": "FGTWAN4fuE1N",
        "outputId": "cc87b77c-85e6-4c0c-c9fd-1a3125b770fe"
      },
      "outputs": [
        {
          "output_type": "stream",
          "name": "stdout",
          "text": [
            "Accuracy: 0.898695836919691\n",
            "Precision: 0.8021465235650956\n",
            "Precision: 0.8021465235650956\n",
            "Recall: 0.8031686700930213\n",
            "F1 Score: 0.8026572714152305\n",
            "\n",
            "XGBoost Report:\n",
            "               precision    recall  f1-score   support\n",
            "\n",
            "           0       0.93      0.93      0.93     68240\n",
            "           1       0.80      0.80      0.80     23543\n",
            "\n",
            "    accuracy                           0.90     91783\n",
            "   macro avg       0.87      0.87      0.87     91783\n",
            "weighted avg       0.90      0.90      0.90     91783\n",
            "\n"
          ]
        }
      ],
      "source": [
        "from sklearn.metrics import accuracy_score, precision_score, recall_score, f1_score, classification_report\n",
        "\n",
        "# 정확도 계산\n",
        "accuracy = accuracy_score(y_test, y_pred)\n",
        "\n",
        "# 정밀도 계산\n",
        "precision = precision_score(y_test, y_pred)\n",
        "\n",
        "# 재현율 계산\n",
        "recall = recall_score(y_test, y_pred)\n",
        "\n",
        "# F1 점수 계산\n",
        "f1 = f1_score(y_test, y_pred)\n",
        "\n",
        "print(f'Accuracy: {accuracy}')\n",
        "print(f'Precision: {precision}')\n",
        "print(f'Precision: {precision}')\n",
        "print(f'Recall: {recall}')\n",
        "print(f'F1 Score: {f1}')\n",
        "\n",
        "# 분류 보고서 출력\n",
        "report = classification_report(y_test, y_pred)\n",
        "print(\"\\nXGBoost Report:\\n\", report)"
      ]
    },
    {
      "cell_type": "markdown",
      "metadata": {
        "id": "dk5UlaD1UpSD"
      },
      "source": [
        "# test data"
      ]
    },
    {
      "cell_type": "code",
      "execution_count": 43,
      "metadata": {
        "id": "EjCO6s9BXCxr"
      },
      "outputs": [],
      "source": [
        "import pandas as pd\n",
        "import numpy as np\n",
        "import matplotlib.pyplot as plt\n",
        "import seaborn as sns\n",
        "import warnings\n",
        "warnings.filterwarnings('ignore')\n",
        "\n",
        "from sklearn.preprocessing import LabelEncoder\n",
        "from sklearn.model_selection import train_test_split\n",
        "from xgboost import XGBRegressor\n",
        "from xgboost import XGBClassifier\n",
        "from sklearn.metrics import mean_squared_error, mean_absolute_error, r2_score\n",
        "import matplotlib.pyplot as plt\n",
        "from sklearn.preprocessing import OneHotEncoder\n",
        "from sklearn.utils import resample"
      ]
    },
    {
      "cell_type": "code",
      "execution_count": 44,
      "metadata": {
        "id": "y08za6ZPMPnQ"
      },
      "outputs": [],
      "source": [
        "# test_data 로드\n",
        "test_df = pd.read_feather(\"/content/drive/MyDrive/data_ftr/test_data.ftr\")"
      ]
    },
    {
      "cell_type": "code",
      "execution_count": 45,
      "metadata": {
        "colab": {
          "base_uri": "https://localhost:8080/"
        },
        "id": "uPq-fZ3RUt2W",
        "outputId": "aa91952d-4b19-4106-e991-82fa97e649b7"
      },
      "outputs": [
        {
          "output_type": "execute_result",
          "data": {
            "text/plain": [
              "(924621, 190)"
            ]
          },
          "metadata": {},
          "execution_count": 45
        }
      ],
      "source": [
        "test_df = test_df.groupby('customer_ID')\n",
        "test_df = test_df.tail(1)\n",
        "test_df.shape"
      ]
    },
    {
      "cell_type": "code",
      "execution_count": 46,
      "metadata": {
        "colab": {
          "base_uri": "https://localhost:8080/"
        },
        "id": "SPNZXNqBVA9s",
        "outputId": "4478c534-5a40-493b-ff92-a8e2ee8bc8f9"
      },
      "outputs": [
        {
          "output_type": "stream",
          "name": "stdout",
          "text": [
            "B_30 OneHotEncoding 완료\n",
            "B_38 OneHotEncoding 완료\n",
            "D_114 OneHotEncoding 완료\n",
            "D_116 OneHotEncoding 완료\n",
            "D_117 OneHotEncoding 완료\n",
            "D_120 OneHotEncoding 완료\n",
            "D_126 OneHotEncoding 완료\n",
            "D_63 OneHotEncoding 완료\n",
            "D_64 OneHotEncoding 완료\n",
            "D_66 OneHotEncoding 완료\n",
            "D_68 OneHotEncoding 완료\n",
            "P_2 결측치 중앙값 대체 완료\n",
            "D_39 결측치 중앙값 대체 완료\n",
            "B_1 결측치 중앙값 대체 완료\n",
            "B_2 결측치 중앙값 대체 완료\n",
            "R_1 결측치 중앙값 대체 완료\n",
            "S_3 결측치 없음\n",
            "D_41 결측치 중앙값 대체 완료\n",
            "B_3 결측치 중앙값 대체 완료\n",
            "D_42 결측치 없음\n",
            "D_43 결측치 없음\n",
            "D_44 결측치 중앙값 대체 완료\n",
            "B_4 결측치 중앙값 대체 완료\n",
            "D_45 결측치 중앙값 대체 완료\n",
            "B_5 결측치 중앙값 대체 완료\n",
            "R_2 결측치 중앙값 대체 완료\n",
            "D_46 결측치 없음\n",
            "D_47 결측치 중앙값 대체 완료\n",
            "D_48 결측치 중앙값 대체 완료\n",
            "D_49 결측치 없음\n",
            "B_6 결측치 중앙값 대체 완료\n",
            "B_7 결측치 중앙값 대체 완료\n",
            "B_8 결측치 중앙값 대체 완료\n",
            "D_50 결측치 없음\n",
            "D_51 결측치 중앙값 대체 완료\n",
            "B_9 결측치 중앙값 대체 완료\n",
            "R_3 결측치 중앙값 대체 완료\n",
            "D_52 결측치 중앙값 대체 완료\n",
            "P_3 결측치 중앙값 대체 완료\n",
            "B_10 결측치 중앙값 대체 완료\n",
            "D_53 결측치 없음\n",
            "S_5 결측치 중앙값 대체 완료\n",
            "B_11 결측치 중앙값 대체 완료\n",
            "S_6 결측치 중앙값 대체 완료\n",
            "D_54 결측치 중앙값 대체 완료\n",
            "R_4 결측치 중앙값 대체 완료\n",
            "S_7 결측치 없음\n",
            "B_12 결측치 중앙값 대체 완료\n",
            "S_8 결측치 중앙값 대체 완료\n",
            "D_55 결측치 중앙값 대체 완료\n",
            "D_56 결측치 없음\n",
            "B_13 결측치 중앙값 대체 완료\n",
            "R_5 결측치 중앙값 대체 완료\n",
            "D_58 결측치 중앙값 대체 완료\n",
            "S_9 결측치 없음\n",
            "B_14 결측치 중앙값 대체 완료\n",
            "D_59 결측치 중앙값 대체 완료\n",
            "D_60 결측치 중앙값 대체 완료\n",
            "D_61 결측치 중앙값 대체 완료\n",
            "B_15 결측치 중앙값 대체 완료\n",
            "S_11 결측치 중앙값 대체 완료\n",
            "D_62 결측치 중앙값 대체 완료\n",
            "D_65 결측치 중앙값 대체 완료\n",
            "B_16 결측치 중앙값 대체 완료\n",
            "B_17 결측치 없음\n",
            "B_18 결측치 중앙값 대체 완료\n",
            "B_19 결측치 중앙값 대체 완료\n",
            "B_20 결측치 중앙값 대체 완료\n",
            "S_12 결측치 중앙값 대체 완료\n",
            "R_6 결측치 중앙값 대체 완료\n",
            "S_13 결측치 중앙값 대체 완료\n",
            "B_21 결측치 중앙값 대체 완료\n",
            "D_69 결측치 중앙값 대체 완료\n",
            "B_22 결측치 중앙값 대체 완료\n",
            "D_70 결측치 중앙값 대체 완료\n",
            "D_71 결측치 중앙값 대체 완료\n",
            "D_72 결측치 중앙값 대체 완료\n",
            "S_15 결측치 중앙값 대체 완료\n",
            "B_23 결측치 중앙값 대체 완료\n",
            "D_73 결측치 없음\n",
            "P_4 결측치 중앙값 대체 완료\n",
            "D_74 결측치 중앙값 대체 완료\n",
            "D_75 결측치 중앙값 대체 완료\n",
            "D_76 결측치 없음\n",
            "B_24 결측치 중앙값 대체 완료\n",
            "R_7 결측치 중앙값 대체 완료\n",
            "D_77 결측치 없음\n",
            "B_25 결측치 중앙값 대체 완료\n",
            "B_26 결측치 중앙값 대체 완료\n",
            "D_78 결측치 중앙값 대체 완료\n",
            "D_79 결측치 중앙값 대체 완료\n",
            "R_8 결측치 중앙값 대체 완료\n",
            "R_9 결측치 없음\n",
            "S_16 결측치 중앙값 대체 완료\n",
            "D_80 결측치 중앙값 대체 완료\n",
            "R_10 결측치 중앙값 대체 완료\n",
            "R_11 결측치 중앙값 대체 완료\n",
            "B_27 결측치 중앙값 대체 완료\n",
            "D_81 결측치 중앙값 대체 완료\n",
            "D_82 결측치 없음\n",
            "S_17 결측치 중앙값 대체 완료\n",
            "R_12 결측치 중앙값 대체 완료\n",
            "B_28 결측치 중앙값 대체 완료\n",
            "R_13 결측치 중앙값 대체 완료\n",
            "D_83 결측치 중앙값 대체 완료\n",
            "R_14 결측치 중앙값 대체 완료\n",
            "R_15 결측치 중앙값 대체 완료\n",
            "D_84 결측치 중앙값 대체 완료\n",
            "R_16 결측치 중앙값 대체 완료\n",
            "B_29 결측치 없음\n",
            "S_18 결측치 중앙값 대체 완료\n",
            "D_86 결측치 중앙값 대체 완료\n",
            "D_87 결측치 없음\n",
            "R_17 결측치 중앙값 대체 완료\n",
            "R_18 결측치 중앙값 대체 완료\n",
            "D_88 결측치 없음\n",
            "B_31 결측치 중앙값 대체 완료\n",
            "S_19 결측치 중앙값 대체 완료\n",
            "R_19 결측치 중앙값 대체 완료\n",
            "B_32 결측치 중앙값 대체 완료\n",
            "S_20 결측치 중앙값 대체 완료\n",
            "R_20 결측치 중앙값 대체 완료\n",
            "R_21 결측치 중앙값 대체 완료\n",
            "B_33 결측치 중앙값 대체 완료\n",
            "D_89 결측치 중앙값 대체 완료\n",
            "R_22 결측치 중앙값 대체 완료\n",
            "R_23 결측치 중앙값 대체 완료\n",
            "D_91 결측치 중앙값 대체 완료\n",
            "D_92 결측치 중앙값 대체 완료\n",
            "D_93 결측치 중앙값 대체 완료\n",
            "D_94 결측치 중앙값 대체 완료\n",
            "R_24 결측치 중앙값 대체 완료\n",
            "R_25 결측치 중앙값 대체 완료\n",
            "D_96 결측치 중앙값 대체 완료\n",
            "S_22 결측치 중앙값 대체 완료\n",
            "S_23 결측치 중앙값 대체 완료\n",
            "S_24 결측치 중앙값 대체 완료\n",
            "S_25 결측치 중앙값 대체 완료\n",
            "S_26 결측치 중앙값 대체 완료\n",
            "D_102 결측치 중앙값 대체 완료\n",
            "D_103 결측치 중앙값 대체 완료\n",
            "D_104 결측치 중앙값 대체 완료\n",
            "D_105 결측치 없음\n",
            "D_106 결측치 없음\n",
            "D_107 결측치 중앙값 대체 완료\n",
            "B_36 결측치 중앙값 대체 완료\n",
            "B_37 결측치 중앙값 대체 완료\n",
            "R_26 결측치 없음\n",
            "R_27 결측치 중앙값 대체 완료\n",
            "D_108 결측치 없음\n",
            "D_109 결측치 중앙값 대체 완료\n",
            "D_110 결측치 없음\n",
            "D_111 결측치 없음\n",
            "B_39 결측치 없음\n",
            "D_112 결측치 중앙값 대체 완료\n",
            "B_40 결측치 중앙값 대체 완료\n",
            "S_27 결측치 없음\n",
            "D_113 결측치 중앙값 대체 완료\n",
            "D_115 결측치 중앙값 대체 완료\n",
            "D_118 결측치 중앙값 대체 완료\n",
            "D_119 결측치 중앙값 대체 완료\n",
            "D_121 결측치 중앙값 대체 완료\n",
            "D_122 결측치 중앙값 대체 완료\n",
            "D_123 결측치 중앙값 대체 완료\n",
            "D_124 결측치 중앙값 대체 완료\n",
            "D_125 결측치 중앙값 대체 완료\n",
            "D_127 결측치 중앙값 대체 완료\n",
            "D_128 결측치 중앙값 대체 완료\n",
            "D_129 결측치 중앙값 대체 완료\n",
            "B_41 결측치 중앙값 대체 완료\n",
            "B_42 결측치 없음\n",
            "D_130 결측치 중앙값 대체 완료\n",
            "D_131 결측치 중앙값 대체 완료\n",
            "D_132 결측치 없음\n",
            "D_133 결측치 중앙값 대체 완료\n",
            "R_28 결측치 중앙값 대체 완료\n",
            "D_134 결측치 없음\n",
            "D_135 결측치 없음\n",
            "D_136 결측치 없음\n",
            "D_137 결측치 없음\n",
            "D_138 결측치 없음\n",
            "D_139 결측치 중앙값 대체 완료\n",
            "D_140 결측치 중앙값 대체 완료\n",
            "D_141 결측치 중앙값 대체 완료\n",
            "D_142 결측치 없음\n",
            "D_143 결측치 중앙값 대체 완료\n",
            "D_144 결측치 중앙값 대체 완료\n",
            "D_145 결측치 중앙값 대체 완료\n",
            "target 결측치 중앙값 대체 완료\n"
          ]
        }
      ],
      "source": [
        "# test_df 범주형 데이터는 전체 데이터를 LabelEncoding으로 대체(우선 범주형, 수치형 데이터 분리) -> LabelEncoding 후 다시 합치기\n",
        "total_cols = test_df.columns.to_list()\n",
        "\n",
        "# 수치형과 범주형 컬럼 구분\n",
        "cat_columns = ['B_30', 'B_38', 'D_114', 'D_116', 'D_117', 'D_120', 'D_126', 'D_63', 'D_64', 'D_66', 'D_68']\n",
        "# 전체 데이터 - cat_columns\n",
        "num_columns = [col for col in total_cols if col not in cat_columns]\n",
        "\n",
        "# 범주형 데이터는 전체 데이터를 onehot\n",
        "for column in cat_columns:\n",
        "    ohe = OneHotEncoder()\n",
        "    test_df[column] = ohe.fit_transform(test_df[column].values.reshape(-1, 1)).toarray()\n",
        "    print(f\"{column} OneHotEncoding 완료\")\n",
        "\n",
        "for column in num_columns_copy:\n",
        "    if train_df[column].isnull().sum() / train_df.shape[0] * 100 < 15:\n",
        "        train_df[column].fillna(train_df[column].median(), inplace=True)\n",
        "        print(f\"{column} 결측치 중앙값 대체 완료\")\n",
        "    else:\n",
        "        print(f\"{column} 결측치 없음\")\n",
        "\n",
        "# test_df를 cat_columns와 num_columns를 합체\n",
        "test_df = pd.concat([test_df[cat_columns], test_df[num_columns]], axis=1)"
      ]
    },
    {
      "cell_type": "code",
      "execution_count": 47,
      "metadata": {
        "id": "85SFlV2ecuwL"
      },
      "outputs": [],
      "source": [
        "# customer_ID 따로 저장\n",
        "customer_ID = test_df['customer_ID']"
      ]
    },
    {
      "cell_type": "code",
      "execution_count": 48,
      "metadata": {
        "id": "pxn1ztWUa-rn"
      },
      "outputs": [],
      "source": [
        "# S_2, customer_ID 컬럼 드랍\n",
        "test_df = test_df.drop(columns=['customer_ID', 'S_2'])"
      ]
    },
    {
      "cell_type": "code",
      "execution_count": 49,
      "metadata": {
        "id": "S3AQOop9XQUF"
      },
      "outputs": [],
      "source": [
        "# XGBoostClassifier 모델로 예측\n",
        "pred = model.predict_proba(test_df)[:, 1]"
      ]
    },
    {
      "cell_type": "code",
      "execution_count": 50,
      "metadata": {
        "id": "KKcyRTjFXQJ7"
      },
      "outputs": [],
      "source": [
        "# customer_ID와 prediction을 submission.csv로 추출\n",
        "submission = pd.DataFrame({'customer_ID': customer_ID, 'prediction': pred})\n",
        "submission.to_csv('submission_XGBoost(OneHot&15%_Median).csv', index=False)"
      ]
    },
    {
      "cell_type": "code",
      "source": [],
      "metadata": {
        "id": "uZKXzl75YqXg"
      },
      "execution_count": null,
      "outputs": []
    }
  ],
  "metadata": {
    "colab": {
      "machine_shape": "hm",
      "provenance": []
    },
    "kernelspec": {
      "display_name": "Python 3",
      "name": "python3"
    },
    "language_info": {
      "name": "python"
    }
  },
  "nbformat": 4,
  "nbformat_minor": 0
}